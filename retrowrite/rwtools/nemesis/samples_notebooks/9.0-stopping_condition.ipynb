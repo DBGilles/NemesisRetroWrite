{
 "cells": [
  {
   "cell_type": "code",
   "execution_count": 1,
   "metadata": {},
   "outputs": [
    {
     "name": "stdout",
     "output_type": "stream",
     "text": [
      "/home/gilles/git-repos/NemesisRetroWrite/retrowrite/rwtools/nemesis/samples_notebooks\r\n"
     ]
    }
   ],
   "source": [
    "%load_ext autoreload\n",
    "%autoreload 2\n",
    "!pwd\n",
    "import os\n",
    "import sys \n",
    "if os.path.abspath(\"../../../\") not in sys.path:\n",
    "    sys.path.append(os.path.abspath(\"../../../\")) \n",
    "\n",
    "import os\n",
    "import networkx as nx\n",
    "from rwtools.nemesis.graph.nemesis_node import AbstractNemesisNode\n",
    "import matplotlib.pyplot as plt\n",
    "import os\n",
    "import matplotlib.image as mpimg\n",
    "from rwtools.nemesis.control_flow_graph import ControlFlowGraph\n"
   ]
  },
  {
   "cell_type": "code",
   "execution_count": 2,
   "metadata": {},
   "outputs": [
    {
     "data": {
      "text/plain": [
       "'/home/gilles/git-repos/NemesisRetroWrite/retrowrite/venv/bin/python'"
      ]
     },
     "execution_count": 2,
     "metadata": {},
     "output_type": "execute_result"
    }
   ],
   "source": [
    "import sys \n",
    "sys.executable"
   ]
  },
  {
   "cell_type": "code",
   "execution_count": 3,
   "metadata": {},
   "outputs": [
    {
     "name": "stdout",
     "output_type": "stream",
     "text": [
      "[*] Relocations for a section that's not loaded: .rela.dyn\n",
      "[x] Could not replace value in .init_array\n",
      "[x] Couldn't find valid section 3e20\n",
      "[x] Couldn't find valid section 3fd8\n",
      "[x] Couldn't find valid section 3fe0\n",
      "[x] Couldn't find valid section 3fe8\n",
      "[x] Couldn't find valid section 3ff0\n",
      "[x] Couldn't find valid section 3ff8\n"
     ]
    }
   ],
   "source": [
    "from test_main import setup \n",
    "\n",
    "binary = os.path.abspath(\"./stopping_condition/stopping_condition\")\n",
    "outputfile = \"./stopping_condition/stopping_condition.s\"\n",
    "loader, rw = setup(binary, outputfile)\n",
    "rw.dump()"
   ]
  },
  {
   "cell_type": "code",
   "execution_count": 4,
   "metadata": {
    "scrolled": false
   },
   "outputs": [
    {
     "ename": "ImportError",
     "evalue": "cannot import name 'balance_branching_point' from 'rwtools.nemesis.graph.balance' (/home/gilles/git-repos/NemesisRetroWrite/retrowrite/rwtools/nemesis/graph/balance.py)",
     "output_type": "error",
     "traceback": [
      "\u001b[0;31m---------------------------------------------------------------------------\u001b[0m",
      "\u001b[0;31mImportError\u001b[0m                               Traceback (most recent call last)",
      "\u001b[0;32m<ipython-input-4-91215a1e2ce6>\u001b[0m in \u001b[0;36m<module>\u001b[0;34m\u001b[0m\n\u001b[1;32m      1\u001b[0m \u001b[0;32mfrom\u001b[0m \u001b[0mrwtools\u001b[0m\u001b[0;34m.\u001b[0m\u001b[0mnemesis\u001b[0m\u001b[0;34m.\u001b[0m\u001b[0mgraph\u001b[0m\u001b[0;34m.\u001b[0m\u001b[0mutils\u001b[0m \u001b[0;32mimport\u001b[0m \u001b[0mcreate_graph_structure\u001b[0m\u001b[0;34m\u001b[0m\u001b[0;34m\u001b[0m\u001b[0m\n\u001b[1;32m      2\u001b[0m \u001b[0;32mfrom\u001b[0m \u001b[0mrwtools\u001b[0m\u001b[0;34m.\u001b[0m\u001b[0mnemesis\u001b[0m\u001b[0;34m.\u001b[0m\u001b[0mgraph\u001b[0m\u001b[0;34m.\u001b[0m\u001b[0mutils\u001b[0m \u001b[0;32mimport\u001b[0m \u001b[0mto_img\u001b[0m\u001b[0;34m\u001b[0m\u001b[0;34m\u001b[0m\u001b[0m\n\u001b[0;32m----> 3\u001b[0;31m \u001b[0;32mfrom\u001b[0m \u001b[0mrwtools\u001b[0m\u001b[0;34m.\u001b[0m\u001b[0mnemesis\u001b[0m\u001b[0;34m.\u001b[0m\u001b[0mgraph\u001b[0m\u001b[0;34m.\u001b[0m\u001b[0mbalance\u001b[0m \u001b[0;32mimport\u001b[0m \u001b[0mbalance_branching_point\u001b[0m\u001b[0;34m\u001b[0m\u001b[0;34m\u001b[0m\u001b[0m\n\u001b[0m\u001b[1;32m      4\u001b[0m \u001b[0;34m\u001b[0m\u001b[0m\n\u001b[1;32m      5\u001b[0m \u001b[0;34m\u001b[0m\u001b[0m\n",
      "\u001b[0;31mImportError\u001b[0m: cannot import name 'balance_branching_point' from 'rwtools.nemesis.graph.balance' (/home/gilles/git-repos/NemesisRetroWrite/retrowrite/rwtools/nemesis/graph/balance.py)"
     ]
    }
   ],
   "source": [
    "from rwtools.nemesis.graph.utils import create_graph_structure\n",
    "from rwtools.nemesis.graph.utils import to_img\n",
    "from rwtools.nemesis.graph.balance import balance_branching_point\n",
    "\n",
    "\n",
    "outputfile = \"./stopping_condition/stopping_condition_rw.s\"\n",
    "loader, rw = setup(binary, outputfile)\n",
    "function_names = loader.container.function_names\n",
    "nodes, graph = create_graph_structure(loader.container, \"main\")\n",
    "fig, axs = plt.subplots(2, figsize=(30, 30))\n",
    "\n",
    "\n",
    "control_flow_graph = ControlFlowGraph(nodes=nodes, graph=graph)\n",
    "\n",
    "control_flow_graph.merge_consecutive_nodes()\n",
    "# axs[0].imshow(to_img(graph))\n",
    "\n",
    "# control_flow_graph.unwind_graph()\n",
    "\n",
    "control_flow_graph.insert_nodes()\n",
    "axs[0].imshow(to_img(graph))\n",
    "target_node = control_flow_graph.get_node('1130')\n",
    "\n",
    "control_flow_graph.set_stopping_nodes(target_node)\n",
    "balance_branching_point(control_flow_graph, target_node)\n",
    "\n",
    "control_flow_graph.merge_inserted_nodes()\n",
    "\n",
    "axs[1].imshow(to_img(graph))\n",
    "\n",
    "rw.dump()\n",
    "    "
   ]
  },
  {
   "cell_type": "code",
   "execution_count": null,
   "metadata": {},
   "outputs": [],
   "source": []
  }
 ],
 "metadata": {
  "kernelspec": {
   "display_name": "NemesisRetrowrite",
   "language": "python",
   "name": "nemesisretrowrite"
  },
  "language_info": {
   "codemirror_mode": {
    "name": "ipython",
    "version": 3
   },
   "file_extension": ".py",
   "mimetype": "text/x-python",
   "name": "python",
   "nbconvert_exporter": "python",
   "pygments_lexer": "ipython3",
   "version": "3.8.5"
  }
 },
 "nbformat": 4,
 "nbformat_minor": 4
}
