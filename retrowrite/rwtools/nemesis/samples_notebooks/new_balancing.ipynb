{
 "cells": [
  {
   "cell_type": "code",
   "execution_count": 1,
   "metadata": {},
   "outputs": [
    {
     "name": "stdout",
     "output_type": "stream",
     "text": [
      "/home/gilles/git-repos/NemesisRetroWrite/retrowrite/rwtools/nemesis/samples_notebooks\r\n"
     ]
    }
   ],
   "source": [
    "%load_ext autoreload\n",
    "%autoreload 2\n",
    "!pwd\n",
    "import os\n",
    "import sys \n",
    "if os.path.abspath(\"../../../\") not in sys.path:\n",
    "    sys.path.append(os.path.abspath(\"../../../\")) \n",
    "\n",
    "import os\n",
    "import networkx as nx\n",
    "from rwtools.nemesis.graph.nemesis_node import AbstractNemesisNode\n",
    "import matplotlib.pyplot as plt\n",
    "import os\n",
    "import matplotlib.image as mpimg\n",
    "from rwtools.nemesis.control_flow_graph import ControlFlowGraph\n"
   ]
  },
  {
   "cell_type": "code",
   "execution_count": 2,
   "metadata": {},
   "outputs": [
    {
     "data": {
      "text/plain": [
       "'/home/gilles/git-repos/NemesisRetroWrite/retrowrite/venv/bin/python'"
      ]
     },
     "execution_count": 2,
     "metadata": {},
     "output_type": "execute_result"
    }
   ],
   "source": [
    "import sys \n",
    "sys.executable"
   ]
  },
  {
   "cell_type": "code",
   "execution_count": 3,
   "metadata": {},
   "outputs": [
    {
     "name": "stdout",
     "output_type": "stream",
     "text": [
      "[*] Relocations for a section that's not loaded: .rela.dyn\n",
      "[x] Could not replace value in .init_array\n",
      "[x] Couldn't find valid section 3e20\n",
      "[x] Couldn't find valid section 3fd8\n",
      "[x] Couldn't find valid section 3fe0\n",
      "[x] Couldn't find valid section 3fe8\n",
      "[x] Couldn't find valid section 3ff0\n",
      "[x] Couldn't find valid section 3ff8\n"
     ]
    }
   ],
   "source": [
    "from test_main import setup \n",
    "\n",
    "binary = os.path.abspath(\"./password_comparison/password_comparison\")\n",
    "outputfile = \"./inserted_nodes.s\"\n",
    "loader, rw = setup(binary, outputfile)\n",
    "rw.dump()"
   ]
  },
  {
   "cell_type": "code",
   "execution_count": 4,
   "metadata": {
    "scrolled": false
   },
   "outputs": [
    {
     "name": "stdout",
     "output_type": "stream",
     "text": [
      "[*] Relocations for a section that's not loaded: .rela.dyn\n",
      "[x] Could not replace value in .init_array\n",
      "[x] Couldn't find valid section 3e20\n",
      "[x] Couldn't find valid section 3fd8\n",
      "[x] Couldn't find valid section 3fe0\n",
      "[x] Couldn't find valid section 3fe8\n",
      "[x] Couldn't find valid section 3ff0\n",
      "[x] Couldn't find valid section 3ff8\n"
     ]
    },
    {
     "ename": "NameError",
     "evalue": "name 'create_graph_structure' is not defined",
     "output_type": "error",
     "traceback": [
      "\u001b[0;31m---------------------------------------------------------------------------\u001b[0m",
      "\u001b[0;31mNameError\u001b[0m                                 Traceback (most recent call last)",
      "\u001b[0;32m<ipython-input-4-82a7a3603943>\u001b[0m in \u001b[0;36m<module>\u001b[0;34m\u001b[0m\n\u001b[1;32m      6\u001b[0m \u001b[0;34m\u001b[0m\u001b[0m\n\u001b[1;32m      7\u001b[0m \u001b[0;34m\u001b[0m\u001b[0m\n\u001b[0;32m----> 8\u001b[0;31m \u001b[0mnodes\u001b[0m\u001b[0;34m,\u001b[0m \u001b[0mgraph\u001b[0m \u001b[0;34m=\u001b[0m \u001b[0mcreate_graph_structure\u001b[0m\u001b[0;34m(\u001b[0m\u001b[0mloader\u001b[0m\u001b[0;34m.\u001b[0m\u001b[0mcontainer\u001b[0m\u001b[0;34m,\u001b[0m \u001b[0;34m\"main\"\u001b[0m\u001b[0;34m)\u001b[0m\u001b[0;34m\u001b[0m\u001b[0;34m\u001b[0m\u001b[0m\n\u001b[0m\u001b[1;32m      9\u001b[0m \u001b[0mfig\u001b[0m\u001b[0;34m,\u001b[0m \u001b[0maxs\u001b[0m \u001b[0;34m=\u001b[0m \u001b[0mplt\u001b[0m\u001b[0;34m.\u001b[0m\u001b[0msubplots\u001b[0m\u001b[0;34m(\u001b[0m\u001b[0;36m1\u001b[0m\u001b[0;34m,\u001b[0m \u001b[0mfigsize\u001b[0m\u001b[0;34m=\u001b[0m\u001b[0;34m(\u001b[0m\u001b[0;36m30\u001b[0m\u001b[0;34m,\u001b[0m \u001b[0;36m30\u001b[0m\u001b[0;34m)\u001b[0m\u001b[0;34m)\u001b[0m\u001b[0;34m\u001b[0m\u001b[0;34m\u001b[0m\u001b[0m\n\u001b[1;32m     10\u001b[0m \u001b[0;34m\u001b[0m\u001b[0m\n",
      "\u001b[0;31mNameError\u001b[0m: name 'create_graph_structure' is not defined"
     ]
    }
   ],
   "source": [
    "\n",
    "outputfile = \"./balancing_test.s\"\n",
    "loader, rw = setup(binary, outputfile)\n",
    "\n",
    "# function_names = loader.container.function_names\n",
    "\n",
    "\n",
    "\n",
    "nodes, graph = create_graph_structure(loader.container, \"main\")\n",
    "fig, axs = plt.subplots(1, figsize=(30, 30))\n",
    "\n",
    "cfg = ControlFlowGraph(nodes=nodes, graph=graph)\n",
    "\n",
    "cfg.merge_consecutive_nodes()\n",
    "\n",
    "cfg.unwind_graph()\n",
    "\n",
    "# insert nodes \n",
    "cfg.insert_nodes()\n",
    "\n",
    "cfg.equalize_branches()\n",
    "\n",
    "\n",
    "\n",
    "RegisterAnalysis.analyze(loader.container)\n",
    "\n",
    "main_function = None\n",
    "for addr, function in loader.container.functions.items():\n",
    "    if function.name == \"main\":\n",
    "        main_function = function \n",
    "        \n",
    "free_registers = main_function.analysis['free_registers']\n",
    "clobber_registers = list(main_function.analysis['clobber_registers'])\n",
    "\n",
    "# convert these into format the balancing algorithm can use \n",
    "new_free_registrs = {}\n",
    "for idx, wrapper in enumerate(function.cache):\n",
    "    new_free_registrs[function.cache[idx]] = free_registers[idx]\n",
    "    \n",
    "def get_nop_v2(target_lat):\n",
    "    if target_lat == 1: \n",
    "        return \"movq {}, {}\", 2\n",
    "    elif target_lat == 3: \n",
    "        return \"imul {}, {}\", 2\n",
    "    else: \n",
    "        return \"imul {}, {}\", 2\n",
    "\n",
    "    \n",
    "def balance_nodeset(nodes):\n",
    "    print(f\"balancing nodes: {[node.id for node in nodes]}\")\n",
    "    it = 0\n",
    "    while True: \n",
    "        # map each node to its length \n",
    "        longest = max(nodes, key=lambda n: n.num_instructions())\n",
    "        if it >= longest.num_instructions():\n",
    "            break\n",
    "        target_lat = longest.get_instr_latency(it)\n",
    "        dummy_instruction, n_args = get_nop_v2(target_lat)\n",
    "        if dummy_instruction == \"placeholder\":\n",
    "            it += 1\n",
    "            continue \n",
    "        for node in [n for n in nodes if n != longest]:\n",
    "            reg = n_args*[f\"%{clobber_registers[0]}\"]\n",
    "            dummy_instruction = dummy_instruction.format(*reg)\n",
    "            node.insert(it, dummy_instruction, target_lat)\n",
    "        it +=1 \n",
    "        \n",
    "def balancing_algorithm():\n",
    "    root = cfg.get_node('1130')\n",
    "    tree_depths = nx.shortest_path_length(cfg.graph, root)\n",
    "    for i in range(max(tree_depths.values())+1):\n",
    "        level_nodes = [node for node in cfg.graph if tree_depths[node] == i]\n",
    "        if len(level_nodes) <= 1: \n",
    "            continue \n",
    "        else: \n",
    "            balance_nodeset(level_nodes)\n",
    "            \n",
    "balancing_algorithm()\n",
    "    \n",
    "\n",
    "cfg.merge_inserted_nodes()\n",
    "axs.imshow(cfg.to_img())\n",
    "\n",
    "    \n",
    "rw.dump()"
   ]
  }
 ],
 "metadata": {
  "kernelspec": {
   "display_name": "NemesisRetrowrite",
   "language": "python",
   "name": "nemesisretrowrite"
  },
  "language_info": {
   "codemirror_mode": {
    "name": "ipython",
    "version": 3
   },
   "file_extension": ".py",
   "mimetype": "text/x-python",
   "name": "python",
   "nbconvert_exporter": "python",
   "pygments_lexer": "ipython3",
   "version": "3.8.5"
  }
 },
 "nbformat": 4,
 "nbformat_minor": 4
}
