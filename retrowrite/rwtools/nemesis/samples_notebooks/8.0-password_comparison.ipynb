{
 "cells": [
  {
   "cell_type": "code",
   "execution_count": 1,
   "metadata": {},
   "outputs": [
    {
     "name": "stdout",
     "output_type": "stream",
     "text": [
      "/home/gilles/git-repos/NemesisRetroWrite/retrowrite/rwtools/nemesis/samples_notebooks\r\n"
     ]
    }
   ],
   "source": [
    "%load_ext autoreload\n",
    "%autoreload 2\n",
    "!pwd\n",
    "import os\n",
    "import sys \n",
    "if os.path.abspath(\"../../../\") not in sys.path:\n",
    "    sys.path.append(os.path.abspath(\"../../../\")) \n",
    "\n",
    "import os\n",
    "# import networkx as nx\n",
    "from rwtools.nemesis.latency_map.create_latency_map import *\n",
    "from rwtools.nemesis.graph.nemesis_node import AbstractNemesisNode\n",
    "import matplotlib.pyplot as plt\n",
    "import os\n",
    "import matplotlib.image as mpimg\n",
    "from rwtools.nemesis.graph.control_flow_graph import ControlFlowGraph\n"
   ]
  },
  {
   "cell_type": "code",
   "execution_count": 2,
   "metadata": {},
   "outputs": [
    {
     "data": {
      "text/plain": [
       "'/home/gilles/git-repos/NemesisRetroWrite/retrowrite/venv/bin/python'"
      ]
     },
     "execution_count": 2,
     "metadata": {},
     "output_type": "execute_result"
    }
   ],
   "source": [
    "import sys \n",
    "sys.executable"
   ]
  },
  {
   "cell_type": "code",
   "execution_count": 3,
   "metadata": {
    "scrolled": false
   },
   "outputs": [
    {
     "ename": "ImportError",
     "evalue": "cannot import name 'label_relative_from_register' from 'rwtools.nemesis.latency_map.string_matching' (/home/gilles/git-repos/NemesisRetroWrite/retrowrite/rwtools/nemesis/latency_map/string_matching.py)",
     "output_type": "error",
     "traceback": [
      "\u001b[0;31m---------------------------------------------------------------------------\u001b[0m",
      "\u001b[0;31mImportError\u001b[0m                               Traceback (most recent call last)",
      "\u001b[0;32m<ipython-input-3-42ea1a915099>\u001b[0m in \u001b[0;36m<module>\u001b[0;34m\u001b[0m\n\u001b[0;32m----> 1\u001b[0;31m \u001b[0;32mfrom\u001b[0m \u001b[0mrwtools\u001b[0m\u001b[0;34m.\u001b[0m\u001b[0mnemesis\u001b[0m\u001b[0;34m.\u001b[0m\u001b[0mnemesistool\u001b[0m \u001b[0;32mimport\u001b[0m \u001b[0mNemesisInstrument\u001b[0m\u001b[0;34m\u001b[0m\u001b[0;34m\u001b[0m\u001b[0m\n\u001b[0m\u001b[1;32m      2\u001b[0m \u001b[0mfigs\u001b[0m\u001b[0;34m,\u001b[0m \u001b[0maxs\u001b[0m \u001b[0;34m=\u001b[0m \u001b[0mplt\u001b[0m\u001b[0;34m.\u001b[0m\u001b[0msubplots\u001b[0m\u001b[0;34m(\u001b[0m\u001b[0;36m1\u001b[0m\u001b[0;34m,\u001b[0m \u001b[0mfigsize\u001b[0m\u001b[0;34m=\u001b[0m\u001b[0;34m(\u001b[0m\u001b[0;36m20\u001b[0m\u001b[0;34m,\u001b[0m\u001b[0;36m20\u001b[0m\u001b[0;34m)\u001b[0m\u001b[0;34m)\u001b[0m\u001b[0;34m\u001b[0m\u001b[0;34m\u001b[0m\u001b[0m\n\u001b[1;32m      3\u001b[0m \u001b[0;34m\u001b[0m\u001b[0m\n\u001b[1;32m      4\u001b[0m \u001b[0mbinary\u001b[0m \u001b[0;34m=\u001b[0m \u001b[0mos\u001b[0m\u001b[0;34m.\u001b[0m\u001b[0mpath\u001b[0m\u001b[0;34m.\u001b[0m\u001b[0mabspath\u001b[0m\u001b[0;34m(\u001b[0m\u001b[0;34m\"./password_comparison/password_comparison\"\u001b[0m\u001b[0;34m)\u001b[0m\u001b[0;34m\u001b[0m\u001b[0;34m\u001b[0m\u001b[0m\n\u001b[1;32m      5\u001b[0m \u001b[0moutputfile\u001b[0m \u001b[0;34m=\u001b[0m \u001b[0;34m\"./password_comparison_rw.s\"\u001b[0m\u001b[0;34m\u001b[0m\u001b[0;34m\u001b[0m\u001b[0m\n",
      "\u001b[0;32m~/git-repos/NemesisRetroWrite/retrowrite/rwtools/nemesis/nemesistool.py\u001b[0m in \u001b[0;36m<module>\u001b[0;34m\u001b[0m\n\u001b[1;32m     10\u001b[0m \u001b[0;32mfrom\u001b[0m \u001b[0mrwtools\u001b[0m\u001b[0;34m.\u001b[0m\u001b[0mnemesis\u001b[0m\u001b[0;34m.\u001b[0m\u001b[0mgraph\u001b[0m\u001b[0;34m.\u001b[0m\u001b[0mcontrol_flow_graph\u001b[0m \u001b[0;32mimport\u001b[0m \u001b[0mControlFlowGraph\u001b[0m\u001b[0;34m\u001b[0m\u001b[0;34m\u001b[0m\u001b[0m\n\u001b[1;32m     11\u001b[0m \u001b[0;32mfrom\u001b[0m \u001b[0mrwtools\u001b[0m\u001b[0;34m.\u001b[0m\u001b[0mnemesis\u001b[0m\u001b[0;34m.\u001b[0m\u001b[0mgraph\u001b[0m\u001b[0;34m.\u001b[0m\u001b[0mnemesis_node\u001b[0m \u001b[0;32mimport\u001b[0m \u001b[0mNemesisNode\u001b[0m\u001b[0;34m\u001b[0m\u001b[0;34m\u001b[0m\u001b[0m\n\u001b[0;32m---> 12\u001b[0;31m \u001b[0;32mfrom\u001b[0m \u001b[0mrwtools\u001b[0m\u001b[0;34m.\u001b[0m\u001b[0mnemesis\u001b[0m\u001b[0;34m.\u001b[0m\u001b[0mlatency_map\u001b[0m\u001b[0;34m.\u001b[0m\u001b[0mlatency_map\u001b[0m \u001b[0;32mimport\u001b[0m \u001b[0mLatencyMapV2\u001b[0m\u001b[0;34m\u001b[0m\u001b[0;34m\u001b[0m\u001b[0m\n\u001b[0m\u001b[1;32m     13\u001b[0m \u001b[0;34m\u001b[0m\u001b[0m\n\u001b[1;32m     14\u001b[0m \u001b[0;34m\u001b[0m\u001b[0m\n",
      "\u001b[0;32m~/git-repos/NemesisRetroWrite/retrowrite/rwtools/nemesis/latency_map/latency_map.py\u001b[0m in \u001b[0;36m<module>\u001b[0;34m\u001b[0m\n\u001b[1;32m      3\u001b[0m \u001b[0;32mfrom\u001b[0m \u001b[0mrwtools\u001b[0m\u001b[0;34m.\u001b[0m\u001b[0mnemesis\u001b[0m\u001b[0;34m.\u001b[0m\u001b[0mlatency_map\u001b[0m\u001b[0;34m.\u001b[0m\u001b[0mcreate_latency_map\u001b[0m \u001b[0;32mimport\u001b[0m \u001b[0mRegisterOperand\u001b[0m\u001b[0;34m,\u001b[0m \u001b[0mImmOperand\u001b[0m\u001b[0;34m,\u001b[0m\u001b[0;31m \u001b[0m\u001b[0;31m\\\u001b[0m\u001b[0;34m\u001b[0m\u001b[0;34m\u001b[0m\u001b[0m\n\u001b[1;32m      4\u001b[0m     \u001b[0mMemoryOperand\u001b[0m\u001b[0;34m,\u001b[0m \u001b[0mAgenOperand\u001b[0m\u001b[0;34m\u001b[0m\u001b[0;34m\u001b[0m\u001b[0m\n\u001b[0;32m----> 5\u001b[0;31m \u001b[0;32mfrom\u001b[0m \u001b[0mrwtools\u001b[0m\u001b[0;34m.\u001b[0m\u001b[0mnemesis\u001b[0m\u001b[0;34m.\u001b[0m\u001b[0mlatency_map\u001b[0m\u001b[0;34m.\u001b[0m\u001b[0mop_types\u001b[0m \u001b[0;32mimport\u001b[0m \u001b[0mImmediate\u001b[0m\u001b[0;34m,\u001b[0m \u001b[0mMemory\u001b[0m\u001b[0;34m,\u001b[0m \u001b[0mRegister\u001b[0m\u001b[0;34m,\u001b[0m \u001b[0mLabel\u001b[0m\u001b[0;34m\u001b[0m\u001b[0;34m\u001b[0m\u001b[0m\n\u001b[0m\u001b[1;32m      6\u001b[0m \u001b[0;32mfrom\u001b[0m \u001b[0mrwtools\u001b[0m\u001b[0;34m.\u001b[0m\u001b[0mnemesis\u001b[0m\u001b[0;34m.\u001b[0m\u001b[0mlatency_map\u001b[0m\u001b[0;34m.\u001b[0m\u001b[0mstring_matching\u001b[0m \u001b[0;32mimport\u001b[0m \u001b[0mone_op_regex\u001b[0m\u001b[0;34m,\u001b[0m \u001b[0mcompound_op_regex\u001b[0m\u001b[0;34m,\u001b[0m\u001b[0;31m \u001b[0m\u001b[0;31m\\\u001b[0m\u001b[0;34m\u001b[0m\u001b[0;34m\u001b[0m\u001b[0m\n\u001b[1;32m      7\u001b[0m     \u001b[0mtwo_ops_regex\u001b[0m\u001b[0;34m,\u001b[0m \u001b[0mrelative_from_compound_op_regex\u001b[0m\u001b[0;34m,\u001b[0m \u001b[0mthree_ops_regex\u001b[0m\u001b[0;34m,\u001b[0m \u001b[0mregister_regex\u001b[0m\u001b[0;34m,\u001b[0m\u001b[0;31m \u001b[0m\u001b[0;31m\\\u001b[0m\u001b[0;34m\u001b[0m\u001b[0;34m\u001b[0m\u001b[0m\n",
      "\u001b[0;32m~/git-repos/NemesisRetroWrite/retrowrite/rwtools/nemesis/latency_map/op_types.py\u001b[0m in \u001b[0;36m<module>\u001b[0;34m\u001b[0m\n\u001b[1;32m      1\u001b[0m \u001b[0;32mfrom\u001b[0m \u001b[0marchinfo\u001b[0m\u001b[0;34m.\u001b[0m\u001b[0march_x86\u001b[0m \u001b[0;32mimport\u001b[0m \u001b[0mArchX86\u001b[0m\u001b[0;34m\u001b[0m\u001b[0;34m\u001b[0m\u001b[0m\n\u001b[1;32m      2\u001b[0m \u001b[0;34m\u001b[0m\u001b[0m\n\u001b[0;32m----> 3\u001b[0;31m \u001b[0;32mfrom\u001b[0m \u001b[0mrwtools\u001b[0m\u001b[0;34m.\u001b[0m\u001b[0mnemesis\u001b[0m\u001b[0;34m.\u001b[0m\u001b[0mlatency_map\u001b[0m\u001b[0;34m.\u001b[0m\u001b[0mstring_matching\u001b[0m \u001b[0;32mimport\u001b[0m \u001b[0mregister_regex\u001b[0m\u001b[0;34m,\u001b[0m\u001b[0;31m\\\u001b[0m\u001b[0;34m\u001b[0m\u001b[0;34m\u001b[0m\u001b[0m\n\u001b[0m\u001b[1;32m      4\u001b[0m     \u001b[0mrelative_from_register_regex\u001b[0m\u001b[0;34m,\u001b[0m \u001b[0mlabel_relative_from_register\u001b[0m\u001b[0;34m,\u001b[0m \u001b[0mimm_values_regex\u001b[0m\u001b[0;34m,\u001b[0m \u001b[0mlabels_regex\u001b[0m\u001b[0;34m,\u001b[0m\u001b[0;31m \u001b[0m\u001b[0;31m\\\u001b[0m\u001b[0;34m\u001b[0m\u001b[0;34m\u001b[0m\u001b[0m\n\u001b[1;32m      5\u001b[0m     \u001b[0mrelative_from_compound_op_regex\u001b[0m\u001b[0;34m,\u001b[0m \u001b[0mcompound_op_regex\u001b[0m\u001b[0;34m\u001b[0m\u001b[0;34m\u001b[0m\u001b[0m\n",
      "\u001b[0;31mImportError\u001b[0m: cannot import name 'label_relative_from_register' from 'rwtools.nemesis.latency_map.string_matching' (/home/gilles/git-repos/NemesisRetroWrite/retrowrite/rwtools/nemesis/latency_map/string_matching.py)"
     ]
    }
   ],
   "source": [
    "from rwtools.nemesis.nemesistool import NemesisInstrument\n",
    "figs, axs = plt.subplots(1, figsize=(20,20))\n",
    "\n",
    "binary = os.path.abspath(\"./password_comparison/password_comparison\")\n",
    "outputfile = \"./password_comparison_rw.s\"\n",
    "\n",
    "nemesis = NemesisInstrument(binary, outputfile)\n",
    "\n",
    "axs.imshow(nemesis.render_cfg())\n",
    "# axs.imshow(nemesis.render_cfg())\n",
    "\n",
    "\n",
    "\n",
    "target_node = nemesis.cfg.get_node('1169')\n",
    "\n",
    "\n",
    "nemesis.instrument(target_node)\n",
    "axs.imshow(nemesis.render_cfg())\n",
    "\n",
    "\n",
    "nemesis.dump()"
   ]
  },
  {
   "cell_type": "code",
   "execution_count": null,
   "metadata": {
    "scrolled": false
   },
   "outputs": [],
   "source": [
    "figs, axs = plt.subplots(1, figsize=(20,20))\n",
    "\n",
    "binary = os.path.abspath(\"./a.out\")\n",
    "outputfile = \"./password_comparison.s\"\n",
    "\n",
    "nemesis = NemesisInstrument(binary, outputfile)\n",
    "\n",
    "axs.imshow(nemesis.render_cfg())"
   ]
  },
  {
   "cell_type": "code",
   "execution_count": null,
   "metadata": {},
   "outputs": [],
   "source": []
  }
 ],
 "metadata": {
  "kernelspec": {
   "display_name": "NemesisRetrowrite",
   "language": "python",
   "name": "nemesisretrowrite"
  },
  "language_info": {
   "codemirror_mode": {
    "name": "ipython",
    "version": 3
   },
   "file_extension": ".py",
   "mimetype": "text/x-python",
   "name": "python",
   "nbconvert_exporter": "python",
   "pygments_lexer": "ipython3",
   "version": "3.8.5"
  }
 },
 "nbformat": 4,
 "nbformat_minor": 4
}
