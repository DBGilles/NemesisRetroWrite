{
 "cells": [
  {
   "cell_type": "code",
   "execution_count": 1,
   "metadata": {},
   "outputs": [
    {
     "name": "stdout",
     "output_type": "stream",
     "text": [
      "/home/gilles/git-repos/NemesisRetroWrite/retrowrite/rwtools/nemesis/samples_notebooks\r\n"
     ]
    },
    {
     "data": {
      "text/plain": [
       "5"
      ]
     },
     "execution_count": 1,
     "metadata": {},
     "output_type": "execute_result"
    }
   ],
   "source": [
    "%load_ext autoreload\n",
    "%autoreload 2\n",
    "!pwd\n",
    "import os\n",
    "import sys \n",
    "if os.path.abspath(\"../../../\") not in sys.path:\n",
    "    sys.path.append(os.path.abspath(\"../../../\")) \n",
    "\n",
    "import os\n",
    "# import networkx as nx\n",
    "from rwtools.nemesis.latency_map.create_latency_map import *\n",
    "from rwtools.nemesis.graph.nemesis_node import AbstractNemesisNode\n",
    "import matplotlib.pyplot as plt\n",
    "import os\n",
    "import matplotlib.image as mpimg\n",
    "from rwtools.nemesis.control_flow_graph import ControlFlowGraph\n",
    "\n",
    "\n",
    "from rwtools.nemesis.latency_map.latency_map import LatencyMapV2 \n",
    "lat_map = LatencyMapV2(load_latency_map(\n",
    "            \"/home/gilles/git-repos/NemesisRetroWrite/retrowrite/rwtools/nemesis/latency_map\"\n",
    "            \"/latencies.p\"))\n",
    "\n",
    "lat_map.get_latency(\"movsbl\", \"(%rax), %ecx\")\n",
    "\n"
   ]
  },
  {
   "cell_type": "code",
   "execution_count": 2,
   "metadata": {},
   "outputs": [
    {
     "name": "stdout",
     "output_type": "stream",
     "text": [
      "['reg16', 'mem8'] 6\n",
      "['reg32', 'mem8'] 5\n",
      "['reg64', 'mem8'] 5\n",
      "['reg16', 'reg8'] 1\n",
      "['reg32', 'reg8'] 1\n",
      "['reg64', 'reg8'] 1\n",
      "['reg32', 'mem16'] 5\n",
      "['reg64', 'mem16'] 5\n",
      "['reg32', 'reg16'] 1\n",
      "['reg64', 'reg16'] 1\n"
     ]
    }
   ],
   "source": [
    "test = lat_map.latencies['MOVSX']\n",
    "for ops, lat in test: \n",
    "    print([str(op) for op in ops], lat)"
   ]
  },
  {
   "cell_type": "code",
   "execution_count": 3,
   "metadata": {},
   "outputs": [
    {
     "name": "stdout",
     "output_type": "stream",
     "text": [
      "5\n",
      "10\n",
      "['reg16', 'mem8'] 6\n",
      "['reg32', 'mem8'] 5\n",
      "['reg64', 'mem8'] 5\n",
      "['reg16', 'reg8'] 1\n",
      "['reg32', 'reg8'] 1\n",
      "['reg64', 'reg8'] 1\n",
      "['reg32', 'mem16'] 5\n",
      "['reg64', 'mem16'] 5\n",
      "['reg32', 'reg16'] 1\n",
      "['reg64', 'reg16'] 1\n",
      "---\n",
      "['reg16', 'reg8']\n",
      "['reg32', 'reg8']\n",
      "comparing reg16, reg32\n",
      "False\n",
      "comparing reg16, reg8\n",
      "False\n",
      "comparing reg8, reg32\n",
      "False\n",
      "comparing reg8, reg8\n",
      "True\n"
     ]
    },
    {
     "data": {
      "text/plain": [
       "1"
      ]
     },
     "execution_count": 3,
     "metadata": {},
     "output_type": "execute_result"
    }
   ],
   "source": [
    "\n",
    "l = lat_map.get_latency(\"movsx\", \"(%rax), %ecx\")\n",
    "\n",
    "print(l)\n",
    "candidates = lat_map.latencies['MOVSX']\n",
    "print(len(candidates))\n",
    "for operands, latency in candidates:\n",
    "    print([str(op) for op in operands], latency)\n",
    "print(\"---\")\n",
    "ops_a = candidates[3][0]\n",
    "ops_b = candidates[4][0]\n",
    "\n",
    "print([str(a) for a in ops_a])\n",
    "print([str(b) for b in ops_b])\n",
    "\n",
    "same_ops(ops_a, ops_b)\n",
    "\n",
    "matched = []\n",
    "for a in ops_a:\n",
    "    for b in ops_b:\n",
    "        if b not in matched:\n",
    "            if a == b: \n",
    "                matched.append(b)\n",
    "                \n",
    "            print(f\"comparing {a}, {b}\")\n",
    "            print(a == b)\n",
    "            continue\n",
    "\n",
    "len(matched)"
   ]
  },
  {
   "cell_type": "code",
   "execution_count": 4,
   "metadata": {},
   "outputs": [
    {
     "name": "stdout",
     "output_type": "stream",
     "text": [
      "['VBLENDVPD', 'VBLENDVPD', 'VBLENDVPD', 'VBLENDVPD', 'VBLENDVPS', 'VBLENDVPS', 'VBLENDVPS', 'VBLENDVPS', 'VCVTSI2SS', 'VPBLENDVB', 'VPBLENDVB', 'VPBLENDVB', 'VPBLENDVB', 'VPINSRB', 'VPINSRD', 'VPINSRQ', 'VPINSRW', 'VPSLLD', 'VPSLLQ', 'VPSLLW', 'VPSRAD', 'VPSRAW', 'VPSRLD', 'VPSRLQ', 'VPSRLW', 'ADC', 'BSWAP', 'CMOVBE', 'CMOVBE', 'CMOVBE', 'CMOVNBE', 'CMOVNBE', 'CMOVNBE', 'CWD', 'LEA', 'LOOP', 'LOOPNE', 'ROL', 'ROL', 'ROL', 'ROL', 'ROR', 'ROR', 'ROR', 'ROR', 'SAR', 'SAR', 'SAR', 'SAR', 'SBB', 'SETBE', 'SETNBE', 'SHL', 'SHL', 'SHL', 'SHL', 'SHR', 'SHR', 'SHR', 'SHR', 'XADD', 'XADD', 'XADD', 'XADD', 'XADD', 'XADD', 'XADD', 'XCHG', 'XCHG', 'XCHG', 'XCHG', 'XCHG', 'XCHG', 'XCHG', 'XCHG', 'XCHG', 'XCHG', 'BEXTR', 'BEXTR', 'PACKSSDW', 'PACKSSDW', 'PACKSSWB', 'PACKSSWB', 'PACKUSWB', 'PACKUSWB', 'PINSRW', 'PSLLD', 'PSLLQ', 'PSLLW', 'PSRAD', 'PSRAW', 'PSRLD', 'PSRLQ', 'PSRLW', 'CVTSI2SS', 'PINSRB', 'PINSRD', 'PINSRQ']\n"
     ]
    }
   ],
   "source": [
    "latencies = lat_map.latencies\n",
    "target_latency = 2 \n",
    "\n",
    "candidates = []\n",
    "\n",
    "\n",
    "for key, value in latencies.items():\n",
    "    for operands, latency in value:\n",
    "        if int(latency) == target_latency:\n",
    "            candidates.append((key, operands, latency))\n",
    "\n",
    "\n",
    "instructions = [instr for instr, ops, latency in candidates]\n",
    "\n",
    "\n",
    "print(instructions)"
   ]
  },
  {
   "cell_type": "code",
   "execution_count": 5,
   "metadata": {},
   "outputs": [
    {
     "data": {
      "text/plain": [
       "1"
      ]
     },
     "execution_count": 5,
     "metadata": {},
     "output_type": "execute_result"
    }
   ],
   "source": [
    "movs = [(instr, ops, latency) for instr, ops, latency in candidates if instr == \"ADC\"]\n",
    "\n",
    "# for _, ops, latency in movs: \n",
    "#     print([str(op) for op in ops], latency)\n",
    "    \n",
    "test_instruction = \"adc %r10, $0\"\n",
    "\n",
    "lat_map.get_latency(\"adc\", \"%rax, $0\")\n",
    "    "
   ]
  },
  {
   "cell_type": "code",
   "execution_count": 6,
   "metadata": {},
   "outputs": [
    {
     "data": {
      "text/plain": [
       "{1,\n",
       " 2,\n",
       " 3,\n",
       " 4,\n",
       " 5,\n",
       " 6,\n",
       " 7,\n",
       " 8,\n",
       " 9,\n",
       " 10,\n",
       " 11,\n",
       " 12,\n",
       " 13,\n",
       " 16,\n",
       " 17,\n",
       " 18,\n",
       " 19,\n",
       " 20,\n",
       " 22,\n",
       " 24,\n",
       " 25,\n",
       " 26,\n",
       " 28,\n",
       " 30,\n",
       " 34,\n",
       " 54,\n",
       " 56,\n",
       " 57,\n",
       " 61,\n",
       " 63,\n",
       " 68,\n",
       " 89,\n",
       " 95,\n",
       " 96,\n",
       " 102,\n",
       " 703,\n",
       " 3503,\n",
       " 3505}"
      ]
     },
     "execution_count": 6,
     "metadata": {},
     "output_type": "execute_result"
    }
   ],
   "source": [
    "ls = []\n",
    "for asm, value in latencies.items():\n",
    "    for (operands, latency) in value: \n",
    "        ls.append(latency)\n",
    "\n",
    "set(ls)"
   ]
  },
  {
   "cell_type": "code",
   "execution_count": 7,
   "metadata": {},
   "outputs": [
    {
     "name": "stdout",
     "output_type": "stream",
     "text": [
      "['reg8', 'mem8'] 6\n",
      "['reg16', 'mem16'] 6\n",
      "['reg32', 'mem32'] 5\n",
      "['reg64', 'mem64'] 5\n",
      "['reg16', 'reg16'] 1\n",
      "['reg', 'mem8'] 6\n",
      "['reg8', 'Imm8'] 1\n",
      "['reg16', 'Imm16'] 1\n"
     ]
    }
   ],
   "source": [
    "\n",
    "lat_map.get_latency(\"movq\", \"%rsp, %rpb\")\n",
    "\n",
    "candidates = lat_map.get_candidates(\"movq\")\n",
    "for ops, latency in candidates: \n",
    "    print([str(op) for op in ops], latency)\n"
   ]
  },
  {
   "cell_type": "code",
   "execution_count": 8,
   "metadata": {},
   "outputs": [
    {
     "data": {
      "text/plain": [
       "{1,\n",
       " 2,\n",
       " 3,\n",
       " 4,\n",
       " 5,\n",
       " 6,\n",
       " 7,\n",
       " 8,\n",
       " 9,\n",
       " 10,\n",
       " 11,\n",
       " 12,\n",
       " 13,\n",
       " 16,\n",
       " 17,\n",
       " 18,\n",
       " 19,\n",
       " 20,\n",
       " 22,\n",
       " 24,\n",
       " 25,\n",
       " 26,\n",
       " 28,\n",
       " 30,\n",
       " 34,\n",
       " 54,\n",
       " 56,\n",
       " 57,\n",
       " 61,\n",
       " 63,\n",
       " 68,\n",
       " 89,\n",
       " 95,\n",
       " 96,\n",
       " 102,\n",
       " 703,\n",
       " 3503,\n",
       " 3505}"
      ]
     },
     "execution_count": 8,
     "metadata": {},
     "output_type": "execute_result"
    }
   ],
   "source": [
    "ls = []\n",
    "for asm, value in latencies.items():\n",
    "    for (operands, latency) in value: \n",
    "        ls.append(latency)\n",
    "\n",
    "set(ls)"
   ]
  },
  {
   "cell_type": "code",
   "execution_count": 9,
   "metadata": {
    "scrolled": false
   },
   "outputs": [
    {
     "name": "stdout",
     "output_type": "stream",
     "text": [
      "AESKEYGENASSIST reg128 reg128 Imm8 7\n",
      "VCVTDQ2PD reg256 reg128 7\n",
      "VCVTPD2DQ reg128 reg256 7\n",
      "VCVTPD2PS reg128 reg256 7\n",
      "VCVTPS2PD reg256 reg128 7\n",
      "VCVTTPD2DQ reg128 reg256 7\n",
      "VPCLMULQDQ reg128 reg128 reg128 Imm8 7\n",
      "VPCLMULQDQ reg128 reg128 mem128 Imm8 7\n",
      "VAESKEYGENASSIST reg128 reg128 Imm8 7\n",
      "ADC mem8 Imm8 7\n",
      "ADC mem16 Imm16 7\n",
      "ADC mem32 Imm32 7\n",
      "ADC mem64 Imm32 7\n",
      "ADC mem8 reg8 7\n",
      "ADC mem16 reg16 7\n",
      "ADC mem32 reg32 7\n",
      "ADC mem64 reg64 7\n",
      "CMPXCHG mem8 reg8 7\n",
      "CMPXCHG mem32 reg32 7\n",
      "ROL mem8 reg 7\n",
      "ROL mem16 reg 7\n",
      "ROL mem32 reg 7\n",
      "ROL mem64 reg 7\n",
      "ROR mem8 reg 7\n",
      "ROR mem16 reg 7\n",
      "ROR mem32 reg 7\n",
      "ROR mem64 reg 7\n",
      "SAR mem8 reg 7\n",
      "SAR mem16 reg 7\n",
      "SAR mem32 reg 7\n",
      "SAR mem64 reg 7\n",
      "SBB mem8 Imm8 7\n",
      "SBB mem16 Imm16 7\n",
      "SBB mem32 Imm32 7\n",
      "SBB mem64 Imm32 7\n",
      "SBB mem8 reg8 7\n",
      "SBB mem16 reg16 7\n",
      "SBB mem32 reg32 7\n",
      "SBB mem64 reg64 7\n",
      "SHL mem8 reg 7\n",
      "SHL mem16 reg 7\n",
      "SHL mem32 reg 7\n",
      "SHL mem64 reg 7\n",
      "SHR mem8 reg 7\n",
      "SHR mem16 reg 7\n",
      "SHR mem32 reg 7\n",
      "SHR mem64 reg 7\n",
      "SHRD mem16 reg16 Imm8 7\n",
      "SHRD mem32 reg32 Imm8 7\n",
      "SHRD mem64 reg64 Imm8 7\n",
      "BEXTR reg32 mem32 reg32 7\n",
      "BEXTR reg64 mem64 reg64 7\n",
      "VCVTPH2PS reg256 reg128 7\n",
      "VCVTPS2PH reg128 reg256 Imm8 7\n",
      "MOVBE reg16 mem16 7\n",
      "MOVBE reg64 mem64 7\n",
      "PCLMULQDQ reg128 reg128 Imm8 7\n",
      "PCLMULQDQ reg128 mem128 Imm8 7\n"
     ]
    }
   ],
   "source": [
    "target_latency = 7\n",
    "candidates = []\n",
    "\n",
    "for asm, value in latencies.items():\n",
    "    for (operands, latency) in value: \n",
    "        if latency == target_latency:\n",
    "            candidates.append((asm, operands, latency))\n",
    "\n",
    "for asm, ops, latency in candidates: \n",
    "    print(asm, *ops, latency)\n",
    "#             print(asm, [str(op) for op in operands])"
   ]
  },
  {
   "cell_type": "code",
   "execution_count": 10,
   "metadata": {},
   "outputs": [
    {
     "data": {
      "text/plain": [
       "7"
      ]
     },
     "execution_count": 10,
     "metadata": {},
     "output_type": "execute_result"
    }
   ],
   "source": [
    "lat_map.get_latency(\"adc\", \"-0x4(%rbp), %rax\")\n",
    "\n",
    "# candidates = lat_map.get_candidates(\"adc\")\n",
    "# for ops, latency in candidates: \n",
    "#     print([str(op) for op in ops], latency)"
   ]
  },
  {
   "cell_type": "code",
   "execution_count": 19,
   "metadata": {},
   "outputs": [
    {
     "name": "stdout",
     "output_type": "stream",
     "text": [
      "no latency information found for instruction: pushq \n"
     ]
    },
    {
     "data": {
      "text/plain": [
       "[]"
      ]
     },
     "execution_count": 19,
     "metadata": {},
     "output_type": "execute_result"
    }
   ],
   "source": [
    "lat_map.get_latency(\"pushq\",\"%rbp\")\n",
    "lat_map.get_candidates(\"push\")"
   ]
  },
  {
   "cell_type": "markdown",
   "metadata": {},
   "source": [
    "# NOP instructions \n",
    "Note: -0x4(rbp) is a memory operand \n",
    "\n",
    "1. add %rax $0 2\n",
    "2. xadd %rax, %rax \n",
    "3. imul %rax, %rax\n",
    "4. mul %rax, %rax\n",
    "5. movq, -0x4(%rbp), %rax\n",
    "6. or, -0x4(%rbp), %rax\n",
    "7. adc -0x4(%rbp), %rax"
   ]
  }
 ],
 "metadata": {
  "kernelspec": {
   "display_name": "NemesisRetrowrite",
   "language": "python",
   "name": "nemesisretrowrite"
  },
  "language_info": {
   "codemirror_mode": {
    "name": "ipython",
    "version": 3
   },
   "file_extension": ".py",
   "mimetype": "text/x-python",
   "name": "python",
   "nbconvert_exporter": "python",
   "pygments_lexer": "ipython3",
   "version": "3.8.5"
  }
 },
 "nbformat": 4,
 "nbformat_minor": 4
}
