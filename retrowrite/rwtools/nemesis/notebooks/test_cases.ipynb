{
 "cells": [
  {
   "cell_type": "markdown",
   "metadata": {},
   "source": [
    "# This notebook contains some more complex test cases (e.g. with cycles) \n"
   ]
  }
 ],
 "metadata": {
  "kernelspec": {
   "display_name": "NemesisRetrowrite",
   "language": "python",
   "name": "nemesisretrowrite"
  },
  "language_info": {
   "codemirror_mode": {
    "name": "ipython",
    "version": 3
   },
   "file_extension": ".py",
   "mimetype": "text/x-python",
   "name": "python",
   "nbconvert_exporter": "python",
   "pygments_lexer": "ipython3",
   "version": "3.8.5"
  }
 },
 "nbformat": 4,
 "nbformat_minor": 4
}
