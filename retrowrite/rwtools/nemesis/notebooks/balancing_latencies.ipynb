{
 "cells": [
  {
   "cell_type": "code",
   "execution_count": 1,
   "metadata": {},
   "outputs": [
    {
     "name": "stdout",
     "output_type": "stream",
     "text": [
      "/home/gilles/git-repos/NemesisRetroWrite/retrowrite/rwtools/nemesis/notebooks\r\n"
     ]
    }
   ],
   "source": [
    "%load_ext autoreload\n",
    "%autoreload 2\n",
    "!pwd\n",
    "import os\n",
    "import sys \n",
    "if os.path.abspath(\"../../../\") not in sys.path:\n",
    "    sys.path.append(os.path.abspath(\"../../../\")) \n",
    "\n",
    "import os\n",
    "import networkx as nx\n",
    "from rwtools.nemesis.graph.nemesis_node import AbstractNemesisNode\n",
    "import matplotlib.pyplot as plt\n",
    "import os\n",
    "import matplotlib.image as mpimg\n",
    "from rwtools.nemesis.control_flow_graph import ControlFlowGraph\n"
   ]
  },
  {
   "cell_type": "code",
   "execution_count": 3,
   "metadata": {},
   "outputs": [
    {
     "data": {
      "text/plain": [
       "True"
      ]
     },
     "execution_count": 3,
     "metadata": {},
     "output_type": "execute_result"
    }
   ],
   "source": [
    "from rwtools.nemesis.latency_balancing import balance_node_latency_lists, determine_head_length,reachable\n",
    "\n",
    "determine_head_length(5, 1, [4,5])\n",
    "\n",
    "reachable(current_head=5,\n",
    "          candidate=5,\n",
    "          options=[4,5])\n",
    "\n",
    "reachable(current_head=1,\n",
    "          candidate=5,\n",
    "          options=[4,5])\n"
   ]
  },
  {
   "cell_type": "code",
   "execution_count": 10,
   "metadata": {},
   "outputs": [
    {
     "name": "stdout",
     "output_type": "stream",
     "text": [
      "[1, 3, 3, 3, 3, 3, 3, 3, 3, 3, 3]\n"
     ]
    }
   ],
   "source": [
    "from rwtools.nemesis.nop_instructions import get_nop_instruction \n",
    "from rwtools.nemesis.latency_balancing import balance_node_latency_lists, head_length\n",
    "\n",
    "def num_inserted_instructions(target_latency):\n",
    "    instr, registers = get_nop_instruction(target_latency)\n",
    "    return 1 + 4*len(registers)\n",
    "\n",
    "\n",
    "\n",
    "\n",
    "a = [1, 3, 3, 3, 3, 3]\n",
    "b = [3, 3, 3, 3, 3, 3]\n",
    "\n",
    "\n",
    "out = balance_node_latency_lists(a, b)\n",
    "print(out)"
   ]
  },
  {
   "cell_type": "markdown",
   "metadata": {},
   "source": [
    "# Some cases to fix \n"
   ]
  },
  {
   "cell_type": "code",
   "execution_count": 11,
   "metadata": {},
   "outputs": [
    {
     "name": "stdout",
     "output_type": "stream",
     "text": [
      "[3, 3, 3, 3, 3, 3, 3, 3, 3, 3, 1, 3, 3, 3, 3, 3]\n"
     ]
    }
   ],
   "source": [
    "\n",
    "a = [1, 3, 3, 3, 3, 3]\n",
    "b = [3, 3, 3, 3, 3, 3]\n",
    "\n",
    "\n",
    "out = balance_node_latency_lists(a, b)\n",
    "print(out)"
   ]
  }
 ],
 "metadata": {
  "kernelspec": {
   "display_name": "NemesisRetrowrite",
   "language": "python",
   "name": "nemesisretrowrite"
  },
  "language_info": {
   "codemirror_mode": {
    "name": "ipython",
    "version": 3
   },
   "file_extension": ".py",
   "mimetype": "text/x-python",
   "name": "python",
   "nbconvert_exporter": "python",
   "pygments_lexer": "ipython3",
   "version": "3.8.5"
  }
 },
 "nbformat": 4,
 "nbformat_minor": 4
}
