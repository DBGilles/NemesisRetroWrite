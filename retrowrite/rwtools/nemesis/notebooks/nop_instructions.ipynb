{
 "cells": [
  {
   "cell_type": "markdown",
   "metadata": {},
   "source": [
    "## NOP insructions\n",
    "The aim of this notebook is to find and test no operation instructions of various latencies. These are operations that can be executed without affecting the state of the program (e.g. multiplying a register with 1) "
   ]
  },
  {
   "cell_type": "code",
   "execution_count": 1,
   "metadata": {},
   "outputs": [
    {
     "name": "stdout",
     "output_type": "stream",
     "text": [
      "/home/gilles/git-repos/NemesisRetroWrite/retrowrite/rwtools/nemesis/notebooks\r\n"
     ]
    }
   ],
   "source": [
    "%load_ext autoreload\n",
    "%autoreload 2\n",
    "!pwd\n",
    "import os\n",
    "import sys \n",
    "if os.path.abspath(\"/home/gilles/git-repos/NemesisRetroWrite/retrowrite\") not in sys.path:\n",
    "    sys.path.append(os.path.abspath(\"/home/gilles/git-repos/NemesisRetroWrite/retrowrite\")) \n"
   ]
  },
  {
   "cell_type": "code",
   "execution_count": 2,
   "metadata": {},
   "outputs": [
    {
     "data": {
      "text/plain": [
       "('addl $0, %eax', [])"
      ]
     },
     "execution_count": 2,
     "metadata": {},
     "output_type": "execute_result"
    }
   ],
   "source": [
    "from rwtools.nemesis.nop_instructions import get_nop_instruction\n",
    "\n",
    "get_nop_instruction(1)"
   ]
  },
  {
   "cell_type": "code",
   "execution_count": 3,
   "metadata": {},
   "outputs": [],
   "source": [
    "from rwtools.nemesis.LatencyMapper import construct_latency_mapper\n",
    "\n",
    "LAT_MAP_IF = \"/home/gilles/git-repos/NemesisRetroWrite/retrowrite/rwtools/nemesis/utils/pickled_latency_map.p\" \n",
    "latency_mapper = construct_latency_mapper(LAT_MAP_IF)\n",
    "\n",
    "base_map = latency_mapper.base_map\n"
   ]
  },
  {
   "cell_type": "markdown",
   "metadata": {},
   "source": [
    "## analyze the possible latencies of instructions \n",
    "This is a list of all possible latencies -- for each of these latencies there should be (hopefully) some \n",
    "instruction that can serve as a nop instruction\n",
    "questions to answer  \n",
    "1) what are the different possible latencies  \n",
    "2) how many instructions are there of the various latencies  "
   ]
  },
  {
   "cell_type": "code",
   "execution_count": 4,
   "metadata": {},
   "outputs": [
    {
     "data": {
      "text/plain": [
       "defaultdict(<function __main__.<lambda>()>,\n",
       "            {1: 5071,\n",
       "             5: 115,\n",
       "             6: 63,\n",
       "             4: 85,\n",
       "             8: 4,\n",
       "             12: 24,\n",
       "             2: 130,\n",
       "             3: 281,\n",
       "             -1: 10,\n",
       "             7: 59,\n",
       "             23: 8,\n",
       "             14: 17,\n",
       "             11: 14,\n",
       "             9: 6,\n",
       "             13: 19,\n",
       "             24: 4,\n",
       "             500: 8,\n",
       "             450: 7,\n",
       "             400: 9,\n",
       "             418: 1,\n",
       "             10: 4,\n",
       "             16: 14})"
      ]
     },
     "execution_count": 4,
     "metadata": {},
     "output_type": "execute_result"
    }
   ],
   "source": [
    "from collections import defaultdict\n",
    "\n",
    "base_map = latency_mapper.base_map\n",
    "latency_set = set(base_map.values())\n",
    "\n",
    "# get all values that have the given latency, return the count \n",
    "count_dict = defaultdict(lambda : 0)\n",
    "\n",
    "for _, latency in base_map.items(): \n",
    "    count_dict[latency] += 1 \n",
    "    \n",
    "count_dict"
   ]
  },
  {
   "cell_type": "markdown",
   "metadata": {},
   "source": [
    "## Instructions of latency 1 \n",
    "Easy: Multiply a register with itself   \n",
    "`imulq %eax, %eax` "
   ]
  },
  {
   "cell_type": "code",
   "execution_count": 5,
   "metadata": {},
   "outputs": [
    {
     "data": {
      "text/plain": [
       "1"
      ]
     },
     "execution_count": 5,
     "metadata": {},
     "output_type": "execute_result"
    }
   ],
   "source": [
    "candidate_keys = [k for k, v in base_map.items() if v == 1]\n",
    "candidate_keys\n",
    "latency_mapper.get_latency(\"addl\", \"$1, %eax\")"
   ]
  },
  {
   "cell_type": "markdown",
   "metadata": {},
   "source": [
    "## Instructions of latency 2\n",
    "according to current latency map, the following instruction has latency 2   \n",
    "`movd %xmm, %xmm` "
   ]
  },
  {
   "cell_type": "code",
   "execution_count": 6,
   "metadata": {},
   "outputs": [
    {
     "data": {
      "text/plain": [
       "[('BEXTR', 'bextr', r32, r32, imm32),\n",
       " ('BEXTR', 'bextr', r32, r32, r32),\n",
       " ('BEXTR', 'bextr', r32, m32, imm32),\n",
       " ('BEXTR', 'bextr', r32, m32, r32),\n",
       " ('BEXTR', 'bextr', r64, r64, imm32),\n",
       " ('BEXTR', 'bextr', r64, r64, r64),\n",
       " ('BEXTR', 'bextr', r64, m64, imm32),\n",
       " ('BEXTR', 'bextr', r64, m64, r64),\n",
       " ('LFENCE', 'lfence'),\n",
       " ('MFENCE', 'mfence'),\n",
       " ('MOV', 'movb', m8, imm8),\n",
       " ('MOV', 'movb', m8, r8),\n",
       " ('MOV', 'movw', m16, imm16),\n",
       " ('MOV', 'movw', m16, r16),\n",
       " ('MOV', 'movl', m32, imm32),\n",
       " ('MOV', 'movl', m32, r32),\n",
       " ('MOV', 'movq', m64, imm32),\n",
       " ('MOV', 'movq', m64, r64),\n",
       " ('MOV', 'movabs', moffs32, eax),\n",
       " ('MOV', 'movabs', moffs64, rax),\n",
       " ('MOVBE', 'movbew', r16, m16),\n",
       " ('MOVBE', 'movbel', r32, m32),\n",
       " ('MOVBE', 'movbeq', r64, m64),\n",
       " ('MOVBE', 'movbew', m16, r16),\n",
       " ('MOVBE', 'movbel', m32, r32),\n",
       " ('MOVBE', 'movbeq', m64, r64),\n",
       " ('MOVD', 'movd', r32, mm),\n",
       " ('MOVD', 'movd', r32, xmm),\n",
       " ('MOVD', 'movd', mm, r32),\n",
       " ('MOVD', 'movd', mm, m32),\n",
       " ('MOVD', 'movd', xmm, r32),\n",
       " ('MOVD', 'movd', xmm, m32),\n",
       " ('MOVDQ2Q', 'movdq2q', mm, xmm),\n",
       " ('MOVDQA', 'movdqa', xmm, m128),\n",
       " ('MOVMSKPS', 'movmskps', r32, xmm),\n",
       " ('MOVQ', 'movq', r64, mm),\n",
       " ('MOVQ', 'movq', r64, xmm),\n",
       " ('MOVQ', 'movq', mm, r64),\n",
       " ('MOVQ', 'movq', mm, mm),\n",
       " ('MOVQ', 'movq', mm, m64),\n",
       " ('MOVQ', 'movq', xmm, r64),\n",
       " ('MOVQ', 'movq', xmm, xmm),\n",
       " ('MOVQ', 'movq', xmm, m64),\n",
       " ('MOVQ2DQ', 'movq2dq', xmm, mm),\n",
       " ('POP', 'popw', r16),\n",
       " ('POP', 'popq', r64),\n",
       " ('POP', 'popw', m16),\n",
       " ('POP', 'popq', m64),\n",
       " ('PREFETCH', 'prefetch', m8),\n",
       " ('PREFETCHNTA', 'prefetchnta', m8),\n",
       " ('PREFETCHW', 'prefetchw', m8),\n",
       " ('RCL', 'rclb', r8, 1),\n",
       " ('RCL', 'rclw', r16, 1),\n",
       " ('RCL', 'rcll', r32, 1),\n",
       " ('RCL', 'rclq', r64, 1),\n",
       " ('RCL', 'rclb', m8, 1),\n",
       " ('RCL', 'rclw', m16, 1),\n",
       " ('RCL', 'rcll', m32, 1),\n",
       " ('RCL', 'rclq', m64, 1),\n",
       " ('RCR', 'rcrb', r8, 1),\n",
       " ('RCR', 'rcrw', r16, 1),\n",
       " ('RCR', 'rcrl', r32, 1),\n",
       " ('RCR', 'rcrq', r64, 1),\n",
       " ('RCR', 'rcrb', m8, 1),\n",
       " ('RCR', 'rcrw', m16, 1),\n",
       " ('RCR', 'rcrl', m32, 1),\n",
       " ('RCR', 'rcrq', m64, 1),\n",
       " ('ROL', 'rolb', r8, cl),\n",
       " ('ROL', 'rolw', r16, cl),\n",
       " ('ROL', 'roll', r32, cl),\n",
       " ('ROL', 'rolq', r64, cl),\n",
       " ('ROL', 'rolb', m8, cl),\n",
       " ('ROL', 'rolw', m16, cl),\n",
       " ('ROL', 'roll', m32, cl),\n",
       " ('ROL', 'rolq', m64, cl),\n",
       " ('ROR', 'rorb', r8, cl),\n",
       " ('ROR', 'rorw', r16, cl),\n",
       " ('ROR', 'rorl', r32, cl),\n",
       " ('ROR', 'rorq', r64, cl),\n",
       " ('ROR', 'rorb', m8, cl),\n",
       " ('ROR', 'rorw', m16, cl),\n",
       " ('ROR', 'rorl', m32, cl),\n",
       " ('ROR', 'rorq', m64, cl),\n",
       " ('SAR', 'sarb', r8, cl),\n",
       " ('SAR', 'sarw', r16, cl),\n",
       " ('SAR', 'sarl', r32, cl),\n",
       " ('SAR', 'sarq', r64, cl),\n",
       " ('SAR', 'sarb', m8, cl),\n",
       " ('SAR', 'sarw', m16, cl),\n",
       " ('SAR', 'sarl', m32, cl),\n",
       " ('SAR', 'sarq', m64, cl),\n",
       " ('SFENCE', 'sfence'),\n",
       " ('SHL', 'shlb', r8, cl),\n",
       " ('SHL', 'shlw', r16, cl),\n",
       " ('SHL', 'shll', r32, cl),\n",
       " ('SHL', 'shlq', r64, cl),\n",
       " ('SHL', 'shlb', m8, cl),\n",
       " ('SHL', 'shlw', m16, cl),\n",
       " ('SHL', 'shll', m32, cl),\n",
       " ('SHL', 'shlq', m64, cl),\n",
       " ('SHR', 'shrb', r8, cl),\n",
       " ('SHR', 'shrw', r16, cl),\n",
       " ('SHR', 'shrl', r32, cl),\n",
       " ('SHR', 'shrq', r64, cl),\n",
       " ('SHR', 'shrb', m8, cl),\n",
       " ('SHR', 'shrw', m16, cl),\n",
       " ('SHR', 'shrl', m32, cl),\n",
       " ('SHR', 'shrq', m64, cl),\n",
       " ('VBLENDVPS', 'vblendvps', xmm, xmm, xmm, xmm),\n",
       " ('VBLENDVPS', 'vblendvps', xmm, xmm, m128, xmm),\n",
       " ('VBLENDVPS', 'vblendvps', ymm, ymm, ymm, ymm),\n",
       " ('VBLENDVPS', 'vblendvps', ymm, ymm, m256, ymm),\n",
       " ('VBROADCASTSS', 'vbroadcastss', ymm{k}{z}, m32),\n",
       " ('VBROADCASTSS', 'vbroadcastss', zmm{k}{z}, m32),\n",
       " ('VBROADCASTSS', 'vbroadcastss', xmm, m32),\n",
       " ('VBROADCASTSS', 'vbroadcastss', ymm, m32),\n",
       " ('VPBLENDVB', 'vpblendvb', xmm, xmm, xmm, xmm),\n",
       " ('VPBLENDVB', 'vpblendvb', xmm, xmm, m128, xmm),\n",
       " ('VPBLENDVB', 'vpblendvb', ymm, ymm, ymm, ymm),\n",
       " ('VPBLENDVB', 'vpblendvb', ymm, ymm, m256, ymm),\n",
       " ('XCHG', 'xchgb', r8, r8),\n",
       " ('XCHG', 'xchgw', ax, r16),\n",
       " ('XCHG', 'xchgw', r16, ax),\n",
       " ('XCHG', 'xchgw', r16, r16),\n",
       " ('XCHG', 'xchgl', eax, r32),\n",
       " ('XCHG', 'xchgl', r32, eax),\n",
       " ('XCHG', 'xchgl', r32, r32),\n",
       " ('XCHG', 'xchgq', rax, r64),\n",
       " ('XCHG', 'xchgq', r64, rax),\n",
       " ('XCHG', 'xchgq', r64, r64)]"
      ]
     },
     "execution_count": 6,
     "metadata": {},
     "output_type": "execute_result"
    }
   ],
   "source": [
    "candidate_keys = [k for k, v in base_map.items() if v == 2]\n",
    "candidate_keys"
   ]
  },
  {
   "cell_type": "code",
   "execution_count": 7,
   "metadata": {},
   "outputs": [
    {
     "data": {
      "text/plain": [
       "2"
      ]
     },
     "execution_count": 7,
     "metadata": {},
     "output_type": "execute_result"
    }
   ],
   "source": [
    "mnemonic = \"movd\"\n",
    "op_str = \"%xmm, %xmm\"\n",
    "latency_mapper.get_latency(mnemonic, op_str)"
   ]
  },
  {
   "cell_type": "markdown",
   "metadata": {},
   "source": [
    "## Instructions of latency 3 \n",
    "following insruction has latency 3   \n",
    "`mull %eax`  \n",
    "note, this modifies register `%eax` so this register has to be pushed and popped at start of stack \n",
    "(in all nodes that add this instruction) "
   ]
  },
  {
   "cell_type": "code",
   "execution_count": 8,
   "metadata": {},
   "outputs": [
    {
     "data": {
      "text/plain": [
       "[(('BSF', 'bsfw', r16, r16), 3),\n",
       " (('BSF', 'bsfw', r16, m16), 3),\n",
       " (('BSF', 'bsfl', r32, r32), 3),\n",
       " (('BSF', 'bsfl', r32, m32), 3),\n",
       " (('BSF', 'bsfq', r64, r64), 3),\n",
       " (('BSF', 'bsfq', r64, m64), 3),\n",
       " (('BSR', 'bsrw', r16, r16), 3),\n",
       " (('BSR', 'bsrw', r16, m16), 3),\n",
       " (('BSR', 'bsrl', r32, r32), 3),\n",
       " (('BSR', 'bsrl', r32, m32), 3),\n",
       " (('BSR', 'bsrq', r64, r64), 3),\n",
       " (('BSR', 'bsrq', r64, m64), 3),\n",
       " (('CALL', 'call', rel32), 3),\n",
       " (('CALL', 'callq', r64), 3),\n",
       " (('CALL', 'callq', m64), 3),\n",
       " (('CMPXCHG', 'cmpxchgb', r8, r8), 3),\n",
       " (('CMPXCHG', 'cmpxchgw', r16, r16), 3),\n",
       " (('CMPXCHG', 'cmpxchgl', r32, r32), 3),\n",
       " (('CMPXCHG', 'cmpxchgq', r64, r64), 3),\n",
       " (('CMPXCHG', 'cmpxchgb', m8, r8), 3),\n",
       " (('CMPXCHG', 'cmpxchgw', m16, r16), 3),\n",
       " (('CMPXCHG', 'cmpxchgl', m32, r32), 3),\n",
       " (('CMPXCHG', 'cmpxchgq', m64, r64), 3),\n",
       " (('CMPXCHG16B', 'cmpxchg16b', m128), 3),\n",
       " (('CMPXCHG8B', 'cmpxchg8b', m64), 3),\n",
       " (('CRC32', 'crc32b', r32, r8), 3),\n",
       " (('CRC32', 'crc32w', r32, r16), 3),\n",
       " (('CRC32', 'crc32l', r32, r32), 3),\n",
       " (('CRC32', 'crc32b', r32, m8), 3),\n",
       " (('CRC32', 'crc32w', r32, m16), 3),\n",
       " (('CRC32', 'crc32l', r32, m32), 3),\n",
       " (('CRC32', 'crc32b', r64, r8), 3),\n",
       " (('CRC32', 'crc32q', r64, r64), 3),\n",
       " (('CRC32', 'crc32b', r64, m8), 3),\n",
       " (('CRC32', 'crc32q', r64, m64), 3),\n",
       " (('DIV', 'divb', m8), 3),\n",
       " (('DIV', 'divw', m16), 3),\n",
       " (('DIV', 'divl', m32), 3),\n",
       " (('DIV', 'divq', m64), 3),\n",
       " (('IDIV', 'idivb', m8), 3),\n",
       " (('IDIV', 'idivw', m16), 3),\n",
       " (('IDIV', 'idivl', m32), 3),\n",
       " (('IDIV', 'idivq', m64), 3),\n",
       " (('IMUL', 'imulb', r8), 3),\n",
       " (('IMUL', 'imulw', r16), 3),\n",
       " (('IMUL', 'imull', r32), 3),\n",
       " (('IMUL', 'imulq', r64), 3),\n",
       " (('IMUL', 'imulb', m8), 3),\n",
       " (('IMUL', 'imulw', m16), 3),\n",
       " (('IMUL', 'imull', m32), 3),\n",
       " (('IMUL', 'imulq', m64), 3),\n",
       " (('IMUL', 'imulw', r16, r16), 3),\n",
       " (('IMUL', 'imulw', r16, m16), 3),\n",
       " (('IMUL', 'imull', r32, r32), 3),\n",
       " (('IMUL', 'imull', r32, m32), 3),\n",
       " (('IMUL', 'imulq', r64, r64), 3),\n",
       " (('IMUL', 'imulq', r64, m64), 3),\n",
       " (('IMUL', 'imulw', r16, m16, imm8), 3),\n",
       " (('IMUL', 'imulw', r16, m16, imm16), 3),\n",
       " (('IMUL', 'imull', r32, m32, imm8), 3),\n",
       " (('IMUL', 'imull', r32, m32, imm32), 3),\n",
       " (('IMUL', 'imulq', r64, m64, imm8), 3),\n",
       " (('IMUL', 'imulq', r64, m64, imm32), 3),\n",
       " (('INT', 'int', 3), 3),\n",
       " (('INT', 'int', imm8), 3),\n",
       " (('JMP', 'jmp', rel8), 3),\n",
       " (('JMP', 'jmp', rel32), 3),\n",
       " (('JMP', 'jmpq', r64), 3),\n",
       " (('JMP', 'jmpq', m64), 3),\n",
       " (('LDDQU', 'lddqu', xmm, m128), 3),\n",
       " (('LZCNT', 'lzcntw', r16, r16), 3),\n",
       " (('LZCNT', 'lzcntw', r16, m16), 3),\n",
       " (('LZCNT', 'lzcntl', r32, r32), 3),\n",
       " (('LZCNT', 'lzcntl', r32, m32), 3),\n",
       " (('LZCNT', 'lzcntq', r64, r64), 3),\n",
       " (('LZCNT', 'lzcntq', r64, m64), 3),\n",
       " (('MOVAPS', 'movaps', xmm, m128), 3),\n",
       " (('MOVAPS', 'movaps', m128, xmm), 3),\n",
       " (('MOVD', 'movd', m32, mm), 3),\n",
       " (('MOVD', 'movd', m32, xmm), 3),\n",
       " (('MOVDDUP', 'movddup', xmm, m64), 3),\n",
       " (('MOVDQA', 'movdqa', m128, xmm), 3),\n",
       " (('MOVHPS', 'movhps', m64, xmm), 3),\n",
       " (('MOVLPS', 'movlps', m64, xmm), 3),\n",
       " (('MOVNTDQA', 'movntdqa', xmm, m128), 3),\n",
       " (('MOVQ', 'movq', m64, mm), 3),\n",
       " (('MOVQ', 'movq', m64, xmm), 3),\n",
       " (('MOVSS', 'movss', xmm, m32), 3),\n",
       " (('MOVSS', 'movss', m32, xmm), 3),\n",
       " (('MOVUPS', 'movups', xmm, xmm), 3),\n",
       " (('MOVUPS', 'movups', xmm, m128), 3),\n",
       " (('MOVUPS', 'movups', m128, xmm), 3),\n",
       " (('MUL', 'mulb', r8), 3),\n",
       " (('MUL', 'mulw', r16), 3),\n",
       " (('MUL', 'mull', r32), 3),\n",
       " (('MUL', 'mulq', r64), 3),\n",
       " (('MUL', 'mulb', m8), 3),\n",
       " (('MUL', 'mulw', m16), 3),\n",
       " (('MUL', 'mull', m32), 3),\n",
       " (('MUL', 'mulq', m64), 3),\n",
       " (('NOP', 'nop'), 3),\n",
       " (('PAUSE', 'pause'), 3),\n",
       " (('PCMPGTQ', 'pcmpgtq', xmm, xmm), 3),\n",
       " (('PCMPGTQ', 'pcmpgtq', xmm, m128), 3),\n",
       " (('PDEP', 'pdep', r32, r32, r32), 3),\n",
       " (('PDEP', 'pdep', r32, r32, m32), 3),\n",
       " (('PDEP', 'pdep', r64, r64, r64), 3),\n",
       " (('PDEP', 'pdep', r64, r64, m64), 3),\n",
       " (('PEXT', 'pext', r32, r32, r32), 3),\n",
       " (('PEXT', 'pext', r32, r32, m32), 3),\n",
       " (('PEXT', 'pext', r64, r64, r64), 3),\n",
       " (('PEXT', 'pext', r64, r64, m64), 3),\n",
       " (('PEXTRB', 'pextrb', r32, xmm, imm8), 3),\n",
       " (('PEXTRB', 'pextrb', m8, xmm, imm8), 3),\n",
       " (('PINSRB', 'pinsrb', xmm, r32, imm8), 3),\n",
       " (('PINSRB', 'pinsrb', xmm, m8, imm8), 3),\n",
       " (('PINSRD', 'pinsrd', xmm, r32, imm8), 3),\n",
       " (('PINSRD', 'pinsrd', xmm, m32, imm8), 3),\n",
       " (('PINSRW', 'pinsrw', mm, r32, imm8), 3),\n",
       " (('PINSRW', 'pinsrw', mm, m16, imm8), 3),\n",
       " (('PINSRW', 'pinsrw', xmm, r32, imm8), 3),\n",
       " (('PINSRW', 'pinsrw', xmm, m16, imm8), 3),\n",
       " (('PMOVMSKB', 'pmovmskb', r32, mm), 3),\n",
       " (('PMOVMSKB', 'pmovmskb', r32, xmm), 3),\n",
       " (('POPCNT', 'popcntw', r16, r16), 3),\n",
       " (('POPCNT', 'popcntw', r16, m16), 3),\n",
       " (('POPCNT', 'popcntl', r32, r32), 3),\n",
       " (('POPCNT', 'popcntl', r32, m32), 3),\n",
       " (('POPCNT', 'popcntq', r64, r64), 3),\n",
       " (('POPCNT', 'popcntq', r64, m64), 3),\n",
       " (('PSADBW', 'psadbw', mm, mm), 3),\n",
       " (('PSADBW', 'psadbw', mm, m64), 3),\n",
       " (('PSADBW', 'psadbw', xmm, xmm), 3),\n",
       " (('PSADBW', 'psadbw', xmm, m128), 3),\n",
       " (('PTEST', 'ptest', xmm, xmm), 3),\n",
       " (('PTEST', 'ptest', xmm, m128), 3),\n",
       " (('PUSH', 'pushq', imm8), 3),\n",
       " (('PUSH', 'pushq', imm32), 3),\n",
       " (('PUSH', 'pushw', r16), 3),\n",
       " (('PUSH', 'pushq', r64), 3),\n",
       " (('PUSH', 'pushw', m16), 3),\n",
       " (('PUSH', 'pushq', m64), 3),\n",
       " (('RET', 'ret'), 3),\n",
       " (('RET', 'ret', imm16), 3),\n",
       " (('SHLD', 'shldw', r16, r16, imm8), 3),\n",
       " (('SHLD', 'shldw', r16, r16, cl), 3),\n",
       " (('SHLD', 'shldl', r32, r32, imm8), 3),\n",
       " (('SHLD', 'shldl', r32, r32, cl), 3),\n",
       " (('SHLD', 'shldq', r64, r64, imm8), 3),\n",
       " (('SHLD', 'shldq', r64, r64, cl), 3),\n",
       " (('SHLD', 'shldw', m16, r16, imm8), 3),\n",
       " (('SHLD', 'shldl', m32, r32, imm8), 3),\n",
       " (('SHLD', 'shldq', m64, r64, imm8), 3),\n",
       " (('SHRD', 'shrdw', r16, r16, imm8), 3),\n",
       " (('SHRD', 'shrdl', r32, r32, imm8), 3),\n",
       " (('SHRD', 'shrdq', r64, r64, imm8), 3),\n",
       " (('SHRD', 'shrdw', m16, r16, imm8), 3),\n",
       " (('SHRD', 'shrdl', m32, r32, imm8), 3),\n",
       " (('SHRD', 'shrdq', m64, r64, imm8), 3),\n",
       " (('TZCNT', 'tzcntw', r16, r16), 3),\n",
       " (('TZCNT', 'tzcntw', r16, m16), 3),\n",
       " (('TZCNT', 'tzcntl', r32, r32), 3),\n",
       " (('TZCNT', 'tzcntl', r32, m32), 3),\n",
       " (('TZCNT', 'tzcntq', r64, r64), 3),\n",
       " (('TZCNT', 'tzcntq', r64, m64), 3),\n",
       " (('VBROADCASTF128', 'vbroadcastf128', ymm, m128), 3),\n",
       " (('VBROADCASTI128', 'vbroadcasti128', ymm, m128), 3),\n",
       " (('VBROADCASTSD', 'vbroadcastsd', ymm{k}{z}, xmm), 3),\n",
       " (('VBROADCASTSD', 'vbroadcastsd', zmm{k}{z}, xmm), 3),\n",
       " (('VBROADCASTSD', 'vbroadcastsd', ymm{k}{z}, m64), 3),\n",
       " (('VBROADCASTSD', 'vbroadcastsd', zmm{k}{z}, m64), 3),\n",
       " (('VBROADCASTSD', 'vbroadcastsd', ymm, xmm), 3),\n",
       " (('VBROADCASTSD', 'vbroadcastsd', ymm, m64), 3),\n",
       " (('VEXTRACTF128', 'vextractf128', xmm, ymm, imm8), 3),\n",
       " (('VEXTRACTI128', 'vextracti128', xmm, ymm, imm8), 3),\n",
       " (('VINSERTF128', 'vinsertf128', ymm, ymm, xmm, imm8), 3),\n",
       " (('VINSERTI128', 'vinserti128', ymm, ymm, xmm, imm8), 3),\n",
       " (('VINSERTI128', 'vinserti128', ymm, ymm, m128, imm8), 3),\n",
       " (('VMASKMOVPS', 'vmaskmovps', xmm, xmm, m128), 3),\n",
       " (('VMASKMOVPS', 'vmaskmovps', ymm, ymm, m256), 3),\n",
       " (('VMOVAPS', 'vmovaps', xmm{k}{z}, m128), 3),\n",
       " (('VMOVAPS', 'vmovaps', ymm{k}{z}, m256), 3),\n",
       " (('VMOVAPS', 'vmovaps', zmm{k}{z}, m512), 3),\n",
       " (('VMOVAPS', 'vmovaps', xmm, m128), 3),\n",
       " (('VMOVAPS', 'vmovaps', ymm, m256), 3),\n",
       " (('VMOVAPS', 'vmovaps', m128, xmm), 3),\n",
       " (('VMOVAPS', 'vmovaps', m256, ymm), 3),\n",
       " (('VMOVD', 'vmovd', xmm, m32), 3),\n",
       " (('VMOVD', 'vmovd', m32, xmm), 3),\n",
       " (('VMOVDQA', 'vmovdqa', xmm, m128), 3),\n",
       " (('VMOVDQA', 'vmovdqa', ymm, m256), 3),\n",
       " (('VMOVDQA', 'vmovdqa', m128, xmm), 3),\n",
       " (('VMOVDQA', 'vmovdqa', m256, ymm), 3),\n",
       " (('VMOVMSKPS', 'vmovmskps', r32, xmm), 3),\n",
       " (('VMOVMSKPS', 'vmovmskps', r32, ymm), 3),\n",
       " (('VMOVNTDQA', 'vmovntdqa', xmm, m128), 3),\n",
       " (('VMOVNTDQA', 'vmovntdqa', ymm, m256), 3),\n",
       " (('VMOVNTDQA', 'vmovntdqa', zmm, m512), 3),\n",
       " (('VMOVUPS', 'vmovups', m128{k}{z}, xmm), 3),\n",
       " (('VMOVUPS', 'vmovups', xmm{k}{z}, xmm), 3),\n",
       " (('VMOVUPS', 'vmovups', m256{k}{z}, ymm), 3),\n",
       " (('VMOVUPS', 'vmovups', ymm{k}{z}, ymm), 3),\n",
       " (('VMOVUPS', 'vmovups', m512{k}{z}, zmm), 3),\n",
       " (('VMOVUPS', 'vmovups', zmm{k}{z}, zmm), 3),\n",
       " (('VMOVUPS', 'vmovups', xmm{k}{z}, m128), 3),\n",
       " (('VMOVUPS', 'vmovups', ymm{k}{z}, m256), 3),\n",
       " (('VMOVUPS', 'vmovups', zmm{k}{z}, m512), 3),\n",
       " (('VMOVUPS', 'vmovups', xmm, xmm), 3),\n",
       " (('VMOVUPS', 'vmovups', xmm, m128), 3),\n",
       " (('VMOVUPS', 'vmovups', ymm, ymm), 3),\n",
       " (('VMOVUPS', 'vmovups', ymm, m256), 3),\n",
       " (('VMOVUPS', 'vmovups', m128, xmm), 3),\n",
       " (('VMOVUPS', 'vmovups', m256, ymm), 3),\n",
       " (('VPERM2F128', 'vperm2f128', ymm, ymm, ymm, imm8), 3),\n",
       " (('VPERM2F128', 'vperm2f128', ymm, ymm, m256, imm8), 3),\n",
       " (('VPERM2I128', 'vperm2i128', ymm, ymm, ymm, imm8), 3),\n",
       " (('VPERM2I128', 'vperm2i128', ymm, ymm, m256, imm8), 3),\n",
       " (('VPERMD', 'vpermd', ymm{k}{z}, ymm, m256/m32bcst), 3),\n",
       " (('VPERMD', 'vpermd', ymm{k}{z}, ymm, ymm), 3),\n",
       " (('VPERMD', 'vpermd', zmm{k}{z}, zmm, m512/m32bcst), 3),\n",
       " (('VPERMD', 'vpermd', zmm{k}{z}, zmm, zmm), 3),\n",
       " (('VPERMD', 'vpermd', ymm, ymm, ymm), 3),\n",
       " (('VPERMD', 'vpermd', ymm, ymm, m256), 3),\n",
       " (('VPERMPD', 'vpermpd', ymm{k}{z}, m256/m64bcst, imm8), 3),\n",
       " (('VPERMPD', 'vpermpd', zmm{k}{z}, m512/m64bcst, imm8), 3),\n",
       " (('VPERMPD', 'vpermpd', ymm{k}{z}, ymm, m256/m64bcst), 3),\n",
       " (('VPERMPD', 'vpermpd', ymm{k}{z}, ymm, imm8), 3),\n",
       " (('VPERMPD', 'vpermpd', ymm{k}{z}, ymm, ymm), 3),\n",
       " (('VPERMPD', 'vpermpd', zmm{k}{z}, zmm, m512/m64bcst), 3),\n",
       " (('VPERMPD', 'vpermpd', zmm{k}{z}, zmm, imm8), 3),\n",
       " (('VPERMPD', 'vpermpd', zmm{k}{z}, zmm, zmm), 3),\n",
       " (('VPERMPD', 'vpermpd', ymm, ymm, imm8), 3),\n",
       " (('VPERMPD', 'vpermpd', ymm, m256, imm8), 3),\n",
       " (('VPERMPS', 'vpermps', ymm{k}{z}, ymm, m256/m32bcst), 3),\n",
       " (('VPERMPS', 'vpermps', ymm{k}{z}, ymm, ymm), 3),\n",
       " (('VPERMPS', 'vpermps', zmm{k}{z}, zmm, m512/m32bcst), 3),\n",
       " (('VPERMPS', 'vpermps', zmm{k}{z}, zmm, zmm), 3),\n",
       " (('VPERMPS', 'vpermps', ymm, ymm, ymm), 3),\n",
       " (('VPERMPS', 'vpermps', ymm, ymm, m256), 3),\n",
       " (('VPERMQ', 'vpermq', ymm{k}{z}, m256/m64bcst, imm8), 3),\n",
       " (('VPERMQ', 'vpermq', zmm{k}{z}, m512/m64bcst, imm8), 3),\n",
       " (('VPERMQ', 'vpermq', ymm{k}{z}, ymm, m256/m64bcst), 3),\n",
       " (('VPERMQ', 'vpermq', ymm{k}{z}, ymm, imm8), 3),\n",
       " (('VPERMQ', 'vpermq', ymm{k}{z}, ymm, ymm), 3),\n",
       " (('VPERMQ', 'vpermq', zmm{k}{z}, zmm, m512/m64bcst), 3),\n",
       " (('VPERMQ', 'vpermq', zmm{k}{z}, zmm, imm8), 3),\n",
       " (('VPERMQ', 'vpermq', zmm{k}{z}, zmm, zmm), 3),\n",
       " (('VPERMQ', 'vpermq', ymm, ymm, imm8), 3),\n",
       " (('VPERMQ', 'vpermq', ymm, m256, imm8), 3),\n",
       " (('VPGATHERDD', 'vpgatherdd', xmm{k}, vm32x), 3),\n",
       " (('VPGATHERDD', 'vpgatherdd', ymm{k}, vm32y), 3),\n",
       " (('VPGATHERDD', 'vpgatherdd', zmm{k}, vm32z), 3),\n",
       " (('VPGATHERDD', 'vpgatherdd', xmm, vm32x, xmm), 3),\n",
       " (('VPGATHERDD', 'vpgatherdd', ymm, vm32y, ymm), 3),\n",
       " (('VPGATHERDQ', 'vpgatherdq', xmm{k}, vm32x), 3),\n",
       " (('VPGATHERDQ', 'vpgatherdq', ymm{k}, vm32x), 3),\n",
       " (('VPGATHERDQ', 'vpgatherdq', zmm{k}, vm32y), 3),\n",
       " (('VPGATHERDQ', 'vpgatherdq', xmm, vm32x, xmm), 3),\n",
       " (('VPGATHERDQ', 'vpgatherdq', ymm, vm32x, ymm), 3),\n",
       " (('VPGATHERQD', 'vpgatherqd', xmm{k}, vm64x), 3),\n",
       " (('VPGATHERQD', 'vpgatherqd', xmm{k}, vm64y), 3),\n",
       " (('VPGATHERQD', 'vpgatherqd', ymm{k}, vm64z), 3),\n",
       " (('VPGATHERQD', 'vpgatherqd', xmm, vm64x, xmm), 3),\n",
       " (('VPGATHERQD', 'vpgatherqd', xmm, vm64y, xmm), 3),\n",
       " (('VPGATHERQQ', 'vpgatherqq', xmm{k}, vm64x), 3),\n",
       " (('VPGATHERQQ', 'vpgatherqq', ymm{k}, vm64y), 3),\n",
       " (('VPGATHERQQ', 'vpgatherqq', zmm{k}, vm64z), 3),\n",
       " (('VPGATHERQQ', 'vpgatherqq', xmm, vm64x, xmm), 3),\n",
       " (('VPGATHERQQ', 'vpgatherqq', ymm, vm64y, ymm), 3),\n",
       " (('XADD', 'xaddb', r8, r8), 3),\n",
       " (('XADD', 'xaddw', r16, r16), 3),\n",
       " (('XADD', 'xaddl', r32, r32), 3),\n",
       " (('XADD', 'xaddq', r64, r64), 3),\n",
       " (('XADD', 'xaddb', m8, r8), 3),\n",
       " (('XADD', 'xaddw', m16, r16), 3),\n",
       " (('XADD', 'xaddl', m32, r32), 3),\n",
       " (('XADD', 'xaddq', m64, r64), 3),\n",
       " (('XCHG', 'xchgb', m8, r8), 3),\n",
       " (('XCHG', 'xchgw', m16, r16), 3),\n",
       " (('XCHG', 'xchgl', m32, r32), 3),\n",
       " (('XCHG', 'xchgq', m64, r64), 3)]"
      ]
     },
     "execution_count": 8,
     "metadata": {},
     "output_type": "execute_result"
    }
   ],
   "source": [
    "candidate_keys = [(k, v) for k, v in base_map.items() if v == 3]\n",
    "candidate_keys\n"
   ]
  },
  {
   "cell_type": "code",
   "execution_count": 9,
   "metadata": {},
   "outputs": [
    {
     "name": "stdout",
     "output_type": "stream",
     "text": [
      "pushq %rax - 3\n",
      "popq %rax - 2\n"
     ]
    }
   ],
   "source": [
    "mnemonic = \"mulq\"\n",
    "op_str = \"%rax\"\n",
    "latency_mapper.get_latency(mnemonic, op_str)\n",
    "\n",
    "mnemonic = \"pushq\"\n",
    "op_str = \"%rax\"\n",
    "print(f\"{mnemonic} {op_str} - {latency_mapper.get_latency(mnemonic, op_str)}\")\n",
    "\n",
    "mnemonic = \"popq\"\n",
    "op_str = \"%rax\"\n",
    "print(f\"{mnemonic} {op_str} - {latency_mapper.get_latency(mnemonic, op_str)}\")\n",
    "\n",
    "# mnemonic = \"popq\"\n",
    "# op_str = \"%rax\"\n",
    "# latency_mapper.get_latency(mnemonic, op_str)"
   ]
  },
  {
   "cell_type": "markdown",
   "metadata": {},
   "source": [
    "## Latency of push and pop instructions "
   ]
  },
  {
   "cell_type": "code",
   "execution_count": 10,
   "metadata": {},
   "outputs": [
    {
     "name": "stdout",
     "output_type": "stream",
     "text": [
      "3\n",
      "2\n"
     ]
    }
   ],
   "source": [
    "mnemonic = \"pushq\"\n",
    "op_str = \"%eax\"\n",
    "print(latency_mapper.get_latency(mnemonic, op_str))\n",
    "\n",
    "mnemonic = \"popq\"\n",
    "op_str = \"%eax\"\n",
    "print(latency_mapper.get_latency(mnemonic, op_str))\n"
   ]
  },
  {
   "cell_type": "markdown",
   "metadata": {},
   "source": [
    "# Instruction of latency 5 \n"
   ]
  },
  {
   "cell_type": "code",
   "execution_count": 11,
   "metadata": {},
   "outputs": [
    {
     "name": "stdout",
     "output_type": "stream",
     "text": [
      "(('ADC', 'adcb', m8, imm8), 5)\n",
      "(('ADC', 'adcb', m8, r8), 5)\n",
      "(('ADC', 'adcw', m16, imm8), 5)\n",
      "(('ADC', 'adcw', m16, imm16), 5)\n",
      "(('ADC', 'adcw', m16, r16), 5)\n",
      "(('ADC', 'adcl', m32, imm8), 5)\n",
      "(('ADC', 'adcl', m32, imm32), 5)\n",
      "(('ADC', 'adcl', m32, r32), 5)\n",
      "(('ADC', 'adcq', m64, imm8), 5)\n",
      "(('ADC', 'adcq', m64, imm32), 5)\n",
      "(('ADC', 'adcq', m64, r64), 5)\n",
      "(('ADD', 'addb', m8, imm8), 5)\n",
      "(('ADD', 'addb', m8, r8), 5)\n",
      "(('ADD', 'addw', m16, imm8), 5)\n",
      "(('ADD', 'addw', m16, imm16), 5)\n",
      "(('ADD', 'addw', m16, r16), 5)\n",
      "(('ADD', 'addl', m32, imm8), 5)\n",
      "(('ADD', 'addl', m32, imm32), 5)\n",
      "(('ADD', 'addl', m32, r32), 5)\n",
      "(('ADD', 'addq', m64, imm8), 5)\n",
      "(('ADD', 'addq', m64, imm32), 5)\n",
      "(('ADD', 'addq', m64, r64), 5)\n",
      "(('AND', 'andb', m8, imm8), 5)\n",
      "(('AND', 'andb', m8, r8), 5)\n",
      "(('AND', 'andw', m16, imm8), 5)\n",
      "(('AND', 'andw', m16, imm16), 5)\n",
      "(('AND', 'andw', m16, r16), 5)\n",
      "(('AND', 'andl', m32, imm8), 5)\n",
      "(('AND', 'andl', m32, imm32), 5)\n",
      "(('AND', 'andl', m32, r32), 5)\n",
      "(('AND', 'andq', m64, imm8), 5)\n",
      "(('AND', 'andq', m64, imm32), 5)\n",
      "(('AND', 'andq', m64, r64), 5)\n",
      "(('CVTDQ2PD', 'cvtdq2pd', xmm, xmm), 5)\n",
      "(('CVTDQ2PD', 'cvtdq2pd', xmm, m64), 5)\n",
      "(('CVTPD2PS', 'cvtpd2ps', xmm, xmm), 5)\n",
      "(('CVTPD2PS', 'cvtpd2ps', xmm, m128), 5)\n",
      "(('CVTPI2PD', 'cvtpi2pd', xmm, mm), 5)\n",
      "(('CVTPI2PD', 'cvtpi2pd', xmm, m64), 5)\n",
      "(('CVTPS2PD', 'cvtps2pd', xmm, xmm), 5)\n",
      "(('CVTPS2PD', 'cvtps2pd', xmm, m64), 5)\n",
      "(('CVTSD2SS', 'cvtsd2ss', xmm, xmm), 5)\n",
      "(('CVTSD2SS', 'cvtsd2ss', xmm, m64), 5)\n",
      "(('CVTSS2SD', 'cvtss2sd', xmm, xmm), 5)\n",
      "(('CVTSS2SD', 'cvtss2sd', xmm, m32), 5)\n",
      "(('EXTRACTPS', 'extractps', m32, xmm, imm8), 5)\n",
      "(('LDMXCSR', 'ldmxcsr', m32), 5)\n",
      "(('OR', 'orb', m8, imm8), 5)\n",
      "(('OR', 'orb', m8, r8), 5)\n",
      "(('OR', 'orw', m16, imm8), 5)\n",
      "(('OR', 'orw', m16, imm16), 5)\n",
      "(('OR', 'orw', m16, r16), 5)\n",
      "(('OR', 'orl', m32, imm8), 5)\n",
      "(('OR', 'orl', m32, imm32), 5)\n",
      "(('OR', 'orl', m32, r32), 5)\n",
      "(('OR', 'orq', m64, imm8), 5)\n",
      "(('OR', 'orq', m64, imm32), 5)\n",
      "(('OR', 'orq', m64, r64), 5)\n",
      "(('PMADDUBSW', 'pmaddubsw', mm, mm), 5)\n",
      "(('PMADDUBSW', 'pmaddubsw', mm, m64), 5)\n",
      "(('PMADDUBSW', 'pmaddubsw', xmm, xmm), 5)\n",
      "(('PMADDUBSW', 'pmaddubsw', xmm, m128), 5)\n",
      "(('PMADDWD', 'pmaddwd', mm, mm), 5)\n",
      "(('PMADDWD', 'pmaddwd', mm, m64), 5)\n",
      "(('PMADDWD', 'pmaddwd', xmm, xmm), 5)\n",
      "(('PMADDWD', 'pmaddwd', xmm, m128), 5)\n",
      "(('PMULDQ', 'pmuldq', xmm, xmm), 5)\n",
      "(('PMULDQ', 'pmuldq', xmm, m128), 5)\n",
      "(('PMULHRSW', 'pmulhrsw', mm, mm), 5)\n",
      "(('PMULHRSW', 'pmulhrsw', mm, m64), 5)\n",
      "(('PMULHRSW', 'pmulhrsw', xmm, xmm), 5)\n",
      "(('PMULHRSW', 'pmulhrsw', xmm, m128), 5)\n",
      "(('PMULHUW', 'pmulhuw', mm, mm), 5)\n",
      "(('PMULHUW', 'pmulhuw', mm, m64), 5)\n",
      "(('PMULHUW', 'pmulhuw', xmm, xmm), 5)\n",
      "(('PMULHUW', 'pmulhuw', xmm, m128), 5)\n",
      "(('PMULUDQ', 'pmuludq', mm, mm), 5)\n",
      "(('PMULUDQ', 'pmuludq', mm, m64), 5)\n",
      "(('PMULUDQ', 'pmuludq', xmm, xmm), 5)\n",
      "(('PMULUDQ', 'pmuludq', xmm, m128), 5)\n",
      "(('SBB', 'sbbb', m8, imm8), 5)\n",
      "(('SBB', 'sbbb', m8, r8), 5)\n",
      "(('SBB', 'sbbw', m16, imm8), 5)\n",
      "(('SBB', 'sbbw', m16, imm16), 5)\n",
      "(('SBB', 'sbbw', m16, r16), 5)\n",
      "(('SBB', 'sbbl', m32, imm8), 5)\n",
      "(('SBB', 'sbbl', m32, imm32), 5)\n",
      "(('SBB', 'sbbl', m32, r32), 5)\n",
      "(('SBB', 'sbbq', m64, imm8), 5)\n",
      "(('SBB', 'sbbq', m64, imm32), 5)\n",
      "(('SBB', 'sbbq', m64, r64), 5)\n",
      "(('STMXCSR', 'stmxcsr', m32), 5)\n",
      "(('SUB', 'subb', m8, imm8), 5)\n",
      "(('SUB', 'subb', m8, r8), 5)\n",
      "(('SUB', 'subw', m16, imm8), 5)\n",
      "(('SUB', 'subw', m16, imm16), 5)\n",
      "(('SUB', 'subw', m16, r16), 5)\n",
      "(('SUB', 'subl', m32, imm8), 5)\n",
      "(('SUB', 'subl', m32, imm32), 5)\n",
      "(('SUB', 'subl', m32, r32), 5)\n",
      "(('SUB', 'subq', m64, imm8), 5)\n",
      "(('SUB', 'subq', m64, imm32), 5)\n",
      "(('SUB', 'subq', m64, r64), 5)\n",
      "(('VINSERTF128', 'vinsertf128', ymm, ymm, m128, imm8), 5)\n",
      "(('XOR', 'xorb', m8, imm8), 5)\n",
      "(('XOR', 'xorb', m8, r8), 5)\n",
      "(('XOR', 'xorw', m16, imm8), 5)\n",
      "(('XOR', 'xorw', m16, imm16), 5)\n",
      "(('XOR', 'xorw', m16, r16), 5)\n",
      "(('XOR', 'xorl', m32, imm8), 5)\n",
      "(('XOR', 'xorl', m32, imm32), 5)\n",
      "(('XOR', 'xorl', m32, r32), 5)\n",
      "(('XOR', 'xorq', m64, imm8), 5)\n",
      "(('XOR', 'xorq', m64, imm32), 5)\n",
      "(('XOR', 'xorq', m64, r64), 5)\n"
     ]
    }
   ],
   "source": [
    "candidate_keys = [(k, v) for k, v in base_map.items() if v == 5]\n",
    "for k in candidate_keys:\n",
    "    print(k)\n",
    "\n"
   ]
  },
  {
   "cell_type": "code",
   "execution_count": 12,
   "metadata": {},
   "outputs": [
    {
     "data": {
      "text/plain": [
       "<re.Match object; span=(0, 19), match='$0, (%ebx, %esi, 4)'>"
      ]
     },
     "execution_count": 12,
     "metadata": {},
     "output_type": "execute_result"
    }
   ],
   "source": [
    "from rwtools.nemesis.LatencyMapper import one_op_regex, two_ops_regex\n",
    "mnemonic = \"addb\"\n",
    "op_str = \"$0, (%ebx, %esi, 4)\"\n",
    "\n",
    "two_ops_regex.fullmatch(\"$0, $0\")\n",
    "one_op_regex.fullmatch(op_str)\n",
    "one_op_regex.match(\"(%ebx, %esi, 4)\")\n",
    "\n",
    "two_ops_regex.fullmatch(op_str)\n",
    "\n",
    "# ('SBB', 'sbbl', m32, r32)\n"
   ]
  },
  {
   "cell_type": "code",
   "execution_count": 13,
   "metadata": {},
   "outputs": [
    {
     "data": {
      "text/plain": [
       "1"
      ]
     },
     "execution_count": 13,
     "metadata": {},
     "output_type": "execute_result"
    }
   ],
   "source": [
    "mnemonic = \"sbbq\"\n",
    "op_str = \"$0, %rax\"\n",
    "\n",
    "latency_mapper.get_latency(mnemonic, op_str)"
   ]
  },
  {
   "cell_type": "code",
   "execution_count": 14,
   "metadata": {},
   "outputs": [
    {
     "data": {
      "text/plain": [
       "1"
      ]
     },
     "execution_count": 14,
     "metadata": {},
     "output_type": "execute_result"
    }
   ],
   "source": [
    "# print(mnemonic, op_str)\n",
    "# print(\"getting latency: \")\n",
    "latency_mapper.get_latency(mnemonic, op_str)"
   ]
  },
  {
   "cell_type": "code",
   "execution_count": 15,
   "metadata": {},
   "outputs": [
    {
     "data": {
      "text/plain": [
       "<re.Match object; span=(6, 21), match='(%ebx, %esi, 4)'>"
      ]
     },
     "execution_count": 15,
     "metadata": {},
     "output_type": "execute_result"
    }
   ],
   "source": [
    "from rwtools.nemesis.string_matching import *\n",
    "two_ops_regex.fullmatch(\"$0, (%ebx, %esi, 4)\")\n",
    "COMPOUND_OP.search(\"sdaf, (%ebx, %esi, 4)\")\n",
    "\n",
    "# print(COMPOUND_OP.pattern)"
   ]
  },
  {
   "cell_type": "code",
   "execution_count": 16,
   "metadata": {},
   "outputs": [
    {
     "data": {
      "text/plain": [
       "3"
      ]
     },
     "execution_count": 16,
     "metadata": {},
     "output_type": "execute_result"
    }
   ],
   "source": [
    "latency_mapper.get_latency(\"imulw\", \"%eax, %eax\")"
   ]
  },
  {
   "cell_type": "markdown",
   "metadata": {},
   "source": [
    "# the `call` instruction"
   ]
  },
  {
   "cell_type": "code",
   "execution_count": 17,
   "metadata": {},
   "outputs": [
    {
     "name": "stdout",
     "output_type": "stream",
     "text": [
      "('CALL', 'call', rel32) 3\n",
      "('CALL', 'callq', r64) 3\n",
      "('CALL', 'callq', m64) 3\n",
      "('SYSCALL', 'syscall') 1\n"
     ]
    }
   ],
   "source": [
    "candidate_keys = [k for k, v in base_map.items() if \"call\" in k[1]]\n",
    "for k in candidate_keys:\n",
    "    print(k, base_map[k])\n"
   ]
  },
  {
   "cell_type": "code",
   "execution_count": 18,
   "metadata": {},
   "outputs": [
    {
     "name": "stdout",
     "output_type": "stream",
     "text": [
      "('MOVSX', 'movsbl', r32, r8) 1\n",
      "('MOVSX', 'movsbl', r32, m8) 1\n"
     ]
    }
   ],
   "source": [
    "candidate_keys = [k for k, v in base_map.items() if \"movsbl\" in k[1]]\n",
    "for k in candidate_keys:\n",
    "    print(k, base_map[k])\n",
    "\n",
    "    "
   ]
  },
  {
   "cell_type": "markdown",
   "metadata": {},
   "source": [
    "# PUSH and POP instructions \n"
   ]
  },
  {
   "cell_type": "code",
   "execution_count": 28,
   "metadata": {},
   "outputs": [
    {
     "name": "stdout",
     "output_type": "stream",
     "text": [
      "(('ADC', 'adcb', al, imm8), 1)\n",
      "(('ADC', 'adcb', r8, imm8), 1)\n",
      "(('ADC', 'adcb', r8, r8), 1)\n",
      "(('ADC', 'adcb', r8, m8), 1)\n",
      "(('ADC', 'adcw', ax, imm16), 1)\n",
      "(('ADC', 'adcw', r16, imm8), 1)\n",
      "(('ADC', 'adcw', r16, imm16), 1)\n",
      "(('ADC', 'adcw', r16, r16), 1)\n",
      "(('ADC', 'adcw', r16, m16), 1)\n",
      "(('ADC', 'adcl', eax, imm32), 1)\n",
      "(('ADC', 'adcl', r32, imm8), 1)\n",
      "(('ADC', 'adcl', r32, imm32), 1)\n",
      "(('ADC', 'adcl', r32, r32), 1)\n",
      "(('ADC', 'adcl', r32, m32), 1)\n",
      "(('ADC', 'adcq', rax, imm32), 1)\n",
      "(('ADC', 'adcq', r64, imm8), 1)\n",
      "(('ADC', 'adcq', r64, imm32), 1)\n",
      "(('ADC', 'adcq', r64, r64), 1)\n",
      "(('ADC', 'adcq', r64, m64), 1)\n",
      "(('ADC', 'adcb', m8, imm8), 5)\n",
      "(('ADC', 'adcb', m8, r8), 5)\n",
      "(('ADC', 'adcw', m16, imm8), 5)\n",
      "(('ADC', 'adcw', m16, imm16), 5)\n",
      "(('ADC', 'adcw', m16, r16), 5)\n",
      "(('ADC', 'adcl', m32, imm8), 5)\n",
      "(('ADC', 'adcl', m32, imm32), 5)\n",
      "(('ADC', 'adcl', m32, r32), 5)\n",
      "(('ADC', 'adcq', m64, imm8), 5)\n",
      "(('ADC', 'adcq', m64, imm32), 5)\n",
      "(('ADC', 'adcq', m64, r64), 5)\n",
      "(('ADCX', 'adcxl', r32, r32), 1)\n",
      "(('ADCX', 'adcxl', r32, m32), 1)\n",
      "(('ADCX', 'adcxq', r64, r64), 1)\n",
      "(('ADCX', 'adcxq', r64, m64), 1)\n",
      "(('VBROADCASTF128', 'vbroadcastf128', ymm, m128), 3)\n",
      "(('VBROADCASTF32X2', 'vbroadcastf32x2', ymm{k}{z}, xmm), 1)\n",
      "(('VBROADCASTF32X2', 'vbroadcastf32x2', zmm{k}{z}, xmm), 1)\n",
      "(('VBROADCASTF32X2', 'vbroadcastf32x2', ymm{k}{z}, m64), 1)\n",
      "(('VBROADCASTF32X2', 'vbroadcastf32x2', zmm{k}{z}, m64), 1)\n",
      "(('VBROADCASTF32X4', 'vbroadcastf32x4', ymm{k}{z}, m128), 1)\n",
      "(('VBROADCASTF32X4', 'vbroadcastf32x4', zmm{k}{z}, m128), 1)\n",
      "(('VBROADCASTF32X8', 'vbroadcastf32x8', zmm{k}{z}, m256), 1)\n",
      "(('VBROADCASTF64X2', 'vbroadcastf64x2', ymm{k}{z}, m128), 1)\n",
      "(('VBROADCASTF64X2', 'vbroadcastf64x2', zmm{k}{z}, m128), 1)\n",
      "(('VBROADCASTF64X4', 'vbroadcastf64x4', zmm{k}{z}, m256), 1)\n",
      "(('VBROADCASTI128', 'vbroadcasti128', ymm, m128), 3)\n",
      "(('VBROADCASTI32X2', 'vbroadcasti32x2', xmm{k}{z}, xmm), 1)\n",
      "(('VBROADCASTI32X2', 'vbroadcasti32x2', ymm{k}{z}, xmm), 1)\n",
      "(('VBROADCASTI32X2', 'vbroadcasti32x2', zmm{k}{z}, xmm), 1)\n",
      "(('VBROADCASTI32X2', 'vbroadcasti32x2', xmm{k}{z}, m64), 1)\n",
      "(('VBROADCASTI32X2', 'vbroadcasti32x2', ymm{k}{z}, m64), 1)\n",
      "(('VBROADCASTI32X2', 'vbroadcasti32x2', zmm{k}{z}, m64), 1)\n",
      "(('VBROADCASTI32X4', 'vbroadcasti32x4', ymm{k}{z}, m128), 1)\n",
      "(('VBROADCASTI32X4', 'vbroadcasti32x4', zmm{k}{z}, m128), 1)\n",
      "(('VBROADCASTI32X8', 'vbroadcasti32x8', zmm{k}{z}, m256), 1)\n",
      "(('VBROADCASTI64X2', 'vbroadcasti64x2', ymm{k}{z}, m128), 1)\n",
      "(('VBROADCASTI64X2', 'vbroadcasti64x2', zmm{k}{z}, m128), 1)\n",
      "(('VBROADCASTI64X4', 'vbroadcasti64x4', zmm{k}{z}, m256), 1)\n",
      "(('VBROADCASTSD', 'vbroadcastsd', ymm{k}{z}, xmm), 3)\n",
      "(('VBROADCASTSD', 'vbroadcastsd', zmm{k}{z}, xmm), 3)\n",
      "(('VBROADCASTSD', 'vbroadcastsd', ymm{k}{z}, m64), 3)\n",
      "(('VBROADCASTSD', 'vbroadcastsd', zmm{k}{z}, m64), 3)\n",
      "(('VBROADCASTSD', 'vbroadcastsd', ymm, xmm), 3)\n",
      "(('VBROADCASTSD', 'vbroadcastsd', ymm, m64), 3)\n",
      "(('VBROADCASTSS', 'vbroadcastss', ymm{k}{z}, xmm), 1)\n",
      "(('VBROADCASTSS', 'vbroadcastss', zmm{k}{z}, xmm), 1)\n",
      "(('VBROADCASTSS', 'vbroadcastss', ymm{k}{z}, m32), 2)\n",
      "(('VBROADCASTSS', 'vbroadcastss', zmm{k}{z}, m32), 2)\n",
      "(('VBROADCASTSS', 'vbroadcastss', xmm, xmm), 1)\n",
      "(('VBROADCASTSS', 'vbroadcastss', xmm, m32), 2)\n",
      "(('VBROADCASTSS', 'vbroadcastss', ymm, xmm), 1)\n",
      "(('VBROADCASTSS', 'vbroadcastss', ymm, m32), 2)\n",
      "(('VPBROADCASTB', 'vpbroadcastb', xmm{k}{z}, r32), 1)\n",
      "(('VPBROADCASTB', 'vpbroadcastb', ymm{k}{z}, r32), 1)\n",
      "(('VPBROADCASTB', 'vpbroadcastb', zmm{k}{z}, r32), 1)\n",
      "(('VPBROADCASTB', 'vpbroadcastb', xmm{k}{z}, xmm), 1)\n",
      "(('VPBROADCASTB', 'vpbroadcastb', ymm{k}{z}, xmm), 1)\n",
      "(('VPBROADCASTB', 'vpbroadcastb', zmm{k}{z}, xmm), 1)\n",
      "(('VPBROADCASTB', 'vpbroadcastb', xmm{k}{z}, m8), 7)\n",
      "(('VPBROADCASTB', 'vpbroadcastb', ymm{k}{z}, m8), 7)\n",
      "(('VPBROADCASTB', 'vpbroadcastb', zmm{k}{z}, m8), 7)\n",
      "(('VPBROADCASTB', 'vpbroadcastb', xmm, xmm), 1)\n",
      "(('VPBROADCASTB', 'vpbroadcastb', xmm, m8), 7)\n",
      "(('VPBROADCASTB', 'vpbroadcastb', ymm, xmm), 1)\n",
      "(('VPBROADCASTB', 'vpbroadcastb', ymm, m8), 7)\n",
      "(('VPBROADCASTD', 'vpbroadcastd', xmm{k}{z}, r32), 4)\n",
      "(('VPBROADCASTD', 'vpbroadcastd', ymm{k}{z}, r32), 4)\n",
      "(('VPBROADCASTD', 'vpbroadcastd', zmm{k}{z}, r32), 4)\n",
      "(('VPBROADCASTD', 'vpbroadcastd', xmm{k}{z}, xmm), 4)\n",
      "(('VPBROADCASTD', 'vpbroadcastd', ymm{k}{z}, xmm), 4)\n",
      "(('VPBROADCASTD', 'vpbroadcastd', zmm{k}{z}, xmm), 4)\n",
      "(('VPBROADCASTD', 'vpbroadcastd', xmm{k}{z}, m32), 4)\n",
      "(('VPBROADCASTD', 'vpbroadcastd', ymm{k}{z}, m32), 4)\n",
      "(('VPBROADCASTD', 'vpbroadcastd', zmm{k}{z}, m32), 4)\n",
      "(('VPBROADCASTD', 'vpbroadcastd', xmm, xmm), 4)\n",
      "(('VPBROADCASTD', 'vpbroadcastd', xmm, m32), 4)\n",
      "(('VPBROADCASTD', 'vpbroadcastd', ymm, xmm), 4)\n",
      "(('VPBROADCASTD', 'vpbroadcastd', ymm, m32), 4)\n",
      "(('VPBROADCASTMB2Q', 'vpbroadcastmb2q', xmm, k), 1)\n",
      "(('VPBROADCASTMB2Q', 'vpbroadcastmb2q', ymm, k), 1)\n",
      "(('VPBROADCASTMB2Q', 'vpbroadcastmb2q', zmm, k), 1)\n",
      "(('VPBROADCASTMW2D', 'vpbroadcastmw2d', xmm, k), 1)\n",
      "(('VPBROADCASTMW2D', 'vpbroadcastmw2d', ymm, k), 1)\n",
      "(('VPBROADCASTMW2D', 'vpbroadcastmw2d', zmm, k), 1)\n",
      "(('VPBROADCASTQ', 'vpbroadcastq', xmm{k}{z}, r64), 1)\n",
      "(('VPBROADCASTQ', 'vpbroadcastq', ymm{k}{z}, r64), 1)\n",
      "(('VPBROADCASTQ', 'vpbroadcastq', zmm{k}{z}, r64), 1)\n",
      "(('VPBROADCASTQ', 'vpbroadcastq', xmm{k}{z}, xmm), 1)\n",
      "(('VPBROADCASTQ', 'vpbroadcastq', ymm{k}{z}, xmm), 1)\n",
      "(('VPBROADCASTQ', 'vpbroadcastq', zmm{k}{z}, xmm), 1)\n",
      "(('VPBROADCASTQ', 'vpbroadcastq', xmm{k}{z}, m64), 1)\n",
      "(('VPBROADCASTQ', 'vpbroadcastq', ymm{k}{z}, m64), 1)\n",
      "(('VPBROADCASTQ', 'vpbroadcastq', zmm{k}{z}, m64), 1)\n",
      "(('VPBROADCASTQ', 'vpbroadcastq', xmm, xmm), 1)\n",
      "(('VPBROADCASTQ', 'vpbroadcastq', xmm, m64), 1)\n",
      "(('VPBROADCASTQ', 'vpbroadcastq', ymm, xmm), 1)\n",
      "(('VPBROADCASTQ', 'vpbroadcastq', ymm, m64), 1)\n",
      "(('VPBROADCASTW', 'vpbroadcastw', xmm{k}{z}, r32), 1)\n",
      "(('VPBROADCASTW', 'vpbroadcastw', ymm{k}{z}, r32), 1)\n",
      "(('VPBROADCASTW', 'vpbroadcastw', zmm{k}{z}, r32), 1)\n",
      "(('VPBROADCASTW', 'vpbroadcastw', xmm{k}{z}, xmm), 1)\n",
      "(('VPBROADCASTW', 'vpbroadcastw', ymm{k}{z}, xmm), 1)\n",
      "(('VPBROADCASTW', 'vpbroadcastw', zmm{k}{z}, xmm), 1)\n",
      "(('VPBROADCASTW', 'vpbroadcastw', xmm{k}{z}, m16), 1)\n",
      "(('VPBROADCASTW', 'vpbroadcastw', ymm{k}{z}, m16), 1)\n",
      "(('VPBROADCASTW', 'vpbroadcastw', zmm{k}{z}, m16), 1)\n",
      "(('VPBROADCASTW', 'vpbroadcastw', xmm, xmm), 1)\n",
      "(('VPBROADCASTW', 'vpbroadcastw', xmm, m16), 1)\n",
      "(('VPBROADCASTW', 'vpbroadcastw', ymm, xmm), 1)\n",
      "(('VPBROADCASTW', 'vpbroadcastw', ymm, m16), 1)\n",
      "(('VPMADCSSWD', 'vpmadcsswd', xmm, xmm, xmm, xmm), 1)\n",
      "(('VPMADCSSWD', 'vpmadcsswd', xmm, xmm, m128, xmm), 1)\n",
      "(('VPMADCSWD', 'vpmadcswd', xmm, xmm, xmm, xmm), 1)\n",
      "(('VPMADCSWD', 'vpmadcswd', xmm, xmm, m128, xmm), 1)\n",
      "(('POP', 'popw', r16), 2)\n",
      "(('POP', 'popq', r64), 2)\n",
      "(('POP', 'popw', m16), 2)\n",
      "(('POP', 'popq', m64), 2)\n",
      "(('POPCNT', 'popcntw', r16, r16), 3)\n",
      "(('POPCNT', 'popcntw', r16, m16), 3)\n",
      "(('POPCNT', 'popcntl', r32, r32), 3)\n",
      "(('POPCNT', 'popcntl', r32, m32), 3)\n",
      "(('POPCNT', 'popcntq', r64, r64), 3)\n",
      "(('POPCNT', 'popcntq', r64, m64), 3)\n",
      "(('VPOPCNTD', 'vpopcntd', zmm{k}{z}, m512/m32bcst), 1)\n",
      "(('VPOPCNTD', 'vpopcntd', zmm{k}{z}, zmm), 1)\n",
      "(('VPOPCNTQ', 'vpopcntq', zmm{k}{z}, m512/m64bcst), 1)\n",
      "(('VPOPCNTQ', 'vpopcntq', zmm{k}{z}, zmm), 1)\n"
     ]
    }
   ],
   "source": [
    "def push_in_key(key): \n",
    "    print(list(key))\n",
    "    for elem in list(key): \n",
    "        if \"adc\" in str(elem) or \"adc\" in str(elem): \n",
    "            return True \n",
    "    return False \n",
    "\n",
    "        \n",
    "#     return True in [\"push\" in key_elemens for key_elemens in list(key)]\n",
    "\n",
    "candidate_keys = [(k, v) for k, v in base_map.items() if \"adc\" in k[1]]\n",
    "for k in candidate_keys:\n",
    "    print(k)\n",
    "\n",
    "candidate_keys = [(k, v) for k, v in base_map.items() if \"pop\" in k[1]]\n",
    "for k in candidate_keys:\n",
    "    print(k)"
   ]
  },
  {
   "cell_type": "code",
   "execution_count": 24,
   "metadata": {},
   "outputs": [
    {
     "name": "stdout",
     "output_type": "stream",
     "text": [
      "(('JMP', 'jmp', rel8), 3)\n",
      "(('JMP', 'jmp', rel32), 3)\n",
      "(('JMP', 'jmpq', r64), 3)\n",
      "(('JMP', 'jmpq', m64), 3)\n"
     ]
    }
   ],
   "source": [
    "candidate_keys = [(k, v) for k, v in base_map.items() if \"jmp\" in k[1]]\n",
    "for k in candidate_keys:\n",
    "    print(k)\n",
    "    \n"
   ]
  },
  {
   "cell_type": "code",
   "execution_count": 23,
   "metadata": {},
   "outputs": [
    {
     "data": {
      "text/plain": [
       "1"
      ]
     },
     "execution_count": 23,
     "metadata": {},
     "output_type": "execute_result"
    }
   ],
   "source": [
    "latency_mapper.get_latency(\"addq\", \"$0x8, %rsp\") "
   ]
  }
 ],
 "metadata": {
  "kernelspec": {
   "display_name": "NemesisRetrowrite",
   "language": "python",
   "name": "nemesisretrowrite"
  },
  "language_info": {
   "codemirror_mode": {
    "name": "ipython",
    "version": 3
   },
   "file_extension": ".py",
   "mimetype": "text/x-python",
   "name": "python",
   "nbconvert_exporter": "python",
   "pygments_lexer": "ipython3",
   "version": "3.8.5"
  }
 },
 "nbformat": 4,
 "nbformat_minor": 4
}
